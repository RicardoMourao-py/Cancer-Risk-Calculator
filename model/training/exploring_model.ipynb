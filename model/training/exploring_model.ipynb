{
 "cells": [
  {
   "cell_type": "markdown",
   "metadata": {},
   "source": [
    "### *EXPLORING MODEL*:"
   ]
  },
  {
   "cell_type": "code",
   "execution_count": 1,
   "metadata": {},
   "outputs": [],
   "source": [
    "import pandas as pd\n",
    "import numpy as np\n",
    "from pathlib import Path\n",
    "import os\n",
    "import warnings\n",
    "from tqdm import tqdm\n",
    "## Graphics\n",
    "import plotly.graph_objs as go\n",
    "import seaborn as sns\n",
    "\n",
    "# Modelling\n",
    "from sklearn.metrics import roc_auc_score,roc_curve, auc\n",
    "from sklearn.linear_model import LogisticRegression\n",
    "from sklearn.neighbors import KNeighborsClassifier\n",
    "from sklearn.tree import DecisionTreeClassifier\n",
    "from sklearn.ensemble import  GradientBoostingClassifier, RandomForestClassifier\n",
    "from sklearn.metrics import classification_report, confusion_matrix, accuracy_score\n",
    "from sklearn.exceptions import UndefinedMetricWarning\n",
    "## Statistics\n",
    "from statistics import mean,stdev\n",
    "## Print\n",
    "from pprint import pprint\n",
    "## import auxiliar functions\n",
    "from model_functions import convert_float_to_int,preprocess_data,evaluate_models_roc,evaluate_models_accuracy,find_best_model_params"
   ]
  },
  {
   "cell_type": "code",
   "execution_count": 2,
   "metadata": {},
   "outputs": [],
   "source": [
    "df = pd.read_csv(Path.cwd().parent / 'app' / 'data' / 'dados_simulados.csv')"
   ]
  },
  {
   "cell_type": "code",
   "execution_count": 3,
   "metadata": {},
   "outputs": [
    {
     "data": {
      "text/html": [
       "<div>\n",
       "<style scoped>\n",
       "    .dataframe tbody tr th:only-of-type {\n",
       "        vertical-align: middle;\n",
       "    }\n",
       "\n",
       "    .dataframe tbody tr th {\n",
       "        vertical-align: top;\n",
       "    }\n",
       "\n",
       "    .dataframe thead th {\n",
       "        text-align: right;\n",
       "    }\n",
       "</style>\n",
       "<table border=\"1\" class=\"dataframe\">\n",
       "  <thead>\n",
       "    <tr style=\"text-align: right;\">\n",
       "      <th></th>\n",
       "      <th>Paciente</th>\n",
       "      <th>vc_tem_lesao_atualmente</th>\n",
       "      <th>idade_inicio_problema_atual</th>\n",
       "      <th>onde_lesao</th>\n",
       "      <th>tipo_cancer_paciente</th>\n",
       "      <th>algum_filho_tem_ou_teve_cancer</th>\n",
       "      <th>tipo_cancer_filho</th>\n",
       "      <th>pai_tem_ou_teve_cancer</th>\n",
       "      <th>tipo_cancer_pai</th>\n",
       "      <th>mae_tem_ou_teve_cancer</th>\n",
       "      <th>tipo_cancer_mae</th>\n",
       "      <th>avo_paterno_tem_ou_teve_cancer</th>\n",
       "      <th>tipo_cancer_avo_paterno</th>\n",
       "      <th>avo_paterna_tem_ou_teve_cancer</th>\n",
       "      <th>tipo_cancer_avo_paterna</th>\n",
       "      <th>avo_materno_tem_ou_teve_cancer</th>\n",
       "      <th>tipo_cancer_avo_materno</th>\n",
       "      <th>avo_materna_tem_ou_teve_cancer</th>\n",
       "      <th>tipo_cancer_avo_materna</th>\n",
       "      <th>resultado_teste_genetico</th>\n",
       "    </tr>\n",
       "  </thead>\n",
       "  <tbody>\n",
       "    <tr>\n",
       "      <th>0</th>\n",
       "      <td>X1</td>\n",
       "      <td>0</td>\n",
       "      <td>NaN</td>\n",
       "      <td>NaN</td>\n",
       "      <td>NaN</td>\n",
       "      <td>1</td>\n",
       "      <td>3.0</td>\n",
       "      <td>1</td>\n",
       "      <td>5.0</td>\n",
       "      <td>0</td>\n",
       "      <td>NaN</td>\n",
       "      <td>0</td>\n",
       "      <td>NaN</td>\n",
       "      <td>0</td>\n",
       "      <td>NaN</td>\n",
       "      <td>0</td>\n",
       "      <td>NaN</td>\n",
       "      <td>0</td>\n",
       "      <td>NaN</td>\n",
       "      <td>0</td>\n",
       "    </tr>\n",
       "    <tr>\n",
       "      <th>1</th>\n",
       "      <td>X2</td>\n",
       "      <td>0</td>\n",
       "      <td>NaN</td>\n",
       "      <td>NaN</td>\n",
       "      <td>NaN</td>\n",
       "      <td>1</td>\n",
       "      <td>8.0</td>\n",
       "      <td>0</td>\n",
       "      <td>NaN</td>\n",
       "      <td>0</td>\n",
       "      <td>NaN</td>\n",
       "      <td>0</td>\n",
       "      <td>NaN</td>\n",
       "      <td>0</td>\n",
       "      <td>NaN</td>\n",
       "      <td>0</td>\n",
       "      <td>NaN</td>\n",
       "      <td>0</td>\n",
       "      <td>NaN</td>\n",
       "      <td>0</td>\n",
       "    </tr>\n",
       "    <tr>\n",
       "      <th>2</th>\n",
       "      <td>X3</td>\n",
       "      <td>0</td>\n",
       "      <td>NaN</td>\n",
       "      <td>NaN</td>\n",
       "      <td>NaN</td>\n",
       "      <td>0</td>\n",
       "      <td>NaN</td>\n",
       "      <td>1</td>\n",
       "      <td>7.0</td>\n",
       "      <td>0</td>\n",
       "      <td>NaN</td>\n",
       "      <td>0</td>\n",
       "      <td>NaN</td>\n",
       "      <td>0</td>\n",
       "      <td>NaN</td>\n",
       "      <td>1</td>\n",
       "      <td>10.0</td>\n",
       "      <td>0</td>\n",
       "      <td>NaN</td>\n",
       "      <td>0</td>\n",
       "    </tr>\n",
       "    <tr>\n",
       "      <th>3</th>\n",
       "      <td>X4</td>\n",
       "      <td>1</td>\n",
       "      <td>37.0</td>\n",
       "      <td>14.0</td>\n",
       "      <td>6.0</td>\n",
       "      <td>0</td>\n",
       "      <td>NaN</td>\n",
       "      <td>0</td>\n",
       "      <td>NaN</td>\n",
       "      <td>0</td>\n",
       "      <td>NaN</td>\n",
       "      <td>0</td>\n",
       "      <td>NaN</td>\n",
       "      <td>1</td>\n",
       "      <td>4.0</td>\n",
       "      <td>0</td>\n",
       "      <td>NaN</td>\n",
       "      <td>1</td>\n",
       "      <td>1.0</td>\n",
       "      <td>0</td>\n",
       "    </tr>\n",
       "    <tr>\n",
       "      <th>4</th>\n",
       "      <td>X5</td>\n",
       "      <td>0</td>\n",
       "      <td>NaN</td>\n",
       "      <td>NaN</td>\n",
       "      <td>NaN</td>\n",
       "      <td>0</td>\n",
       "      <td>NaN</td>\n",
       "      <td>0</td>\n",
       "      <td>NaN</td>\n",
       "      <td>1</td>\n",
       "      <td>2.0</td>\n",
       "      <td>1</td>\n",
       "      <td>11.0</td>\n",
       "      <td>0</td>\n",
       "      <td>NaN</td>\n",
       "      <td>1</td>\n",
       "      <td>5.0</td>\n",
       "      <td>0</td>\n",
       "      <td>NaN</td>\n",
       "      <td>0</td>\n",
       "    </tr>\n",
       "  </tbody>\n",
       "</table>\n",
       "</div>"
      ],
      "text/plain": [
       "  Paciente  vc_tem_lesao_atualmente  idade_inicio_problema_atual  onde_lesao  \\\n",
       "0       X1                        0                          NaN         NaN   \n",
       "1       X2                        0                          NaN         NaN   \n",
       "2       X3                        0                          NaN         NaN   \n",
       "3       X4                        1                         37.0        14.0   \n",
       "4       X5                        0                          NaN         NaN   \n",
       "\n",
       "   tipo_cancer_paciente  algum_filho_tem_ou_teve_cancer  tipo_cancer_filho  \\\n",
       "0                   NaN                               1                3.0   \n",
       "1                   NaN                               1                8.0   \n",
       "2                   NaN                               0                NaN   \n",
       "3                   6.0                               0                NaN   \n",
       "4                   NaN                               0                NaN   \n",
       "\n",
       "   pai_tem_ou_teve_cancer  tipo_cancer_pai  mae_tem_ou_teve_cancer  \\\n",
       "0                       1              5.0                       0   \n",
       "1                       0              NaN                       0   \n",
       "2                       1              7.0                       0   \n",
       "3                       0              NaN                       0   \n",
       "4                       0              NaN                       1   \n",
       "\n",
       "   tipo_cancer_mae  avo_paterno_tem_ou_teve_cancer  tipo_cancer_avo_paterno  \\\n",
       "0              NaN                               0                      NaN   \n",
       "1              NaN                               0                      NaN   \n",
       "2              NaN                               0                      NaN   \n",
       "3              NaN                               0                      NaN   \n",
       "4              2.0                               1                     11.0   \n",
       "\n",
       "   avo_paterna_tem_ou_teve_cancer  tipo_cancer_avo_paterna  \\\n",
       "0                               0                      NaN   \n",
       "1                               0                      NaN   \n",
       "2                               0                      NaN   \n",
       "3                               1                      4.0   \n",
       "4                               0                      NaN   \n",
       "\n",
       "   avo_materno_tem_ou_teve_cancer  tipo_cancer_avo_materno  \\\n",
       "0                               0                      NaN   \n",
       "1                               0                      NaN   \n",
       "2                               1                     10.0   \n",
       "3                               0                      NaN   \n",
       "4                               1                      5.0   \n",
       "\n",
       "   avo_materna_tem_ou_teve_cancer  tipo_cancer_avo_materna  \\\n",
       "0                               0                      NaN   \n",
       "1                               0                      NaN   \n",
       "2                               0                      NaN   \n",
       "3                               1                      1.0   \n",
       "4                               0                      NaN   \n",
       "\n",
       "   resultado_teste_genetico  \n",
       "0                         0  \n",
       "1                         0  \n",
       "2                         0  \n",
       "3                         0  \n",
       "4                         0  "
      ]
     },
     "execution_count": 3,
     "metadata": {},
     "output_type": "execute_result"
    }
   ],
   "source": [
    "df.head()"
   ]
  },
  {
   "cell_type": "code",
   "execution_count": 4,
   "metadata": {},
   "outputs": [
    {
     "name": "stdout",
     "output_type": "stream",
     "text": [
      "<class 'pandas.core.frame.DataFrame'>\n",
      "RangeIndex: 10000 entries, 0 to 9999\n",
      "Data columns (total 20 columns):\n",
      " #   Column                          Non-Null Count  Dtype  \n",
      "---  ------                          --------------  -----  \n",
      " 0   Paciente                        10000 non-null  object \n",
      " 1   vc_tem_lesao_atualmente         10000 non-null  int64  \n",
      " 2   idade_inicio_problema_atual     2903 non-null   float64\n",
      " 3   onde_lesao                      2903 non-null   float64\n",
      " 4   tipo_cancer_paciente            2903 non-null   float64\n",
      " 5   algum_filho_tem_ou_teve_cancer  10000 non-null  int64  \n",
      " 6   tipo_cancer_filho               2925 non-null   float64\n",
      " 7   pai_tem_ou_teve_cancer          10000 non-null  int64  \n",
      " 8   tipo_cancer_pai                 2948 non-null   float64\n",
      " 9   mae_tem_ou_teve_cancer          10000 non-null  int64  \n",
      " 10  tipo_cancer_mae                 2963 non-null   float64\n",
      " 11  avo_paterno_tem_ou_teve_cancer  10000 non-null  int64  \n",
      " 12  tipo_cancer_avo_paterno         2983 non-null   float64\n",
      " 13  avo_paterna_tem_ou_teve_cancer  10000 non-null  int64  \n",
      " 14  tipo_cancer_avo_paterna         2843 non-null   float64\n",
      " 15  avo_materno_tem_ou_teve_cancer  10000 non-null  int64  \n",
      " 16  tipo_cancer_avo_materno         2950 non-null   float64\n",
      " 17  avo_materna_tem_ou_teve_cancer  10000 non-null  int64  \n",
      " 18  tipo_cancer_avo_materna         2913 non-null   float64\n",
      " 19  resultado_teste_genetico        10000 non-null  int64  \n",
      "dtypes: float64(10), int64(9), object(1)\n",
      "memory usage: 1.5+ MB\n"
     ]
    }
   ],
   "source": [
    "df.info()"
   ]
  },
  {
   "cell_type": "markdown",
   "metadata": {},
   "source": [
    "### Cleaning Data "
   ]
  },
  {
   "cell_type": "code",
   "execution_count": 5,
   "metadata": {},
   "outputs": [],
   "source": [
    "# Colunas converter float pra int\n",
    "float_to_int_columns = [\n",
    "    'onde_lesao',\n",
    "    'tipo_cancer_paciente',\n",
    "    'tipo_cancer_filho',\n",
    "    'tipo_cancer_pai',\n",
    "    'tipo_cancer_mae',\n",
    "    'tipo_cancer_avo_paterno',\n",
    "    'tipo_cancer_avo_paterna',\n",
    "    'tipo_cancer_avo_materno',\n",
    "    'tipo_cancer_avo_materna'\n",
    "]\n",
    "df=convert_float_to_int(df,float_to_int_columns)"
   ]
  },
  {
   "cell_type": "markdown",
   "metadata": {},
   "source": [
    "### Pre-processing"
   ]
  },
  {
   "cell_type": "code",
   "execution_count": 6,
   "metadata": {},
   "outputs": [],
   "source": [
    "X = df.drop(columns=['Paciente', 'resultado_teste_genetico']).copy()\n",
    "y = df['resultado_teste_genetico'].copy()"
   ]
  },
  {
   "cell_type": "code",
   "execution_count": 7,
   "metadata": {},
   "outputs": [],
   "source": [
    "# Lista de colunas numéricas\n",
    "numerical_features = ['idade_inicio_problema_atual']\n",
    "# Lista de colunas categóricas (excluindo as colunas mencionadas)\n",
    "categorical_features = [col for col in df.columns if col not in ['resultado_teste_genetico', 'Paciente','idade_inicio_problema_atual']]"
   ]
  },
  {
   "cell_type": "code",
   "execution_count": 8,
   "metadata": {},
   "outputs": [],
   "source": [
    "preprocessor = preprocess_data(numerical_features, categorical_features)"
   ]
  },
  {
   "cell_type": "code",
   "execution_count": 9,
   "metadata": {},
   "outputs": [
    {
     "data": {
      "text/html": [
       "<style>#sk-container-id-1 {color: black;background-color: white;}#sk-container-id-1 pre{padding: 0;}#sk-container-id-1 div.sk-toggleable {background-color: white;}#sk-container-id-1 label.sk-toggleable__label {cursor: pointer;display: block;width: 100%;margin-bottom: 0;padding: 0.3em;box-sizing: border-box;text-align: center;}#sk-container-id-1 label.sk-toggleable__label-arrow:before {content: \"▸\";float: left;margin-right: 0.25em;color: #696969;}#sk-container-id-1 label.sk-toggleable__label-arrow:hover:before {color: black;}#sk-container-id-1 div.sk-estimator:hover label.sk-toggleable__label-arrow:before {color: black;}#sk-container-id-1 div.sk-toggleable__content {max-height: 0;max-width: 0;overflow: hidden;text-align: left;background-color: #f0f8ff;}#sk-container-id-1 div.sk-toggleable__content pre {margin: 0.2em;color: black;border-radius: 0.25em;background-color: #f0f8ff;}#sk-container-id-1 input.sk-toggleable__control:checked~div.sk-toggleable__content {max-height: 200px;max-width: 100%;overflow: auto;}#sk-container-id-1 input.sk-toggleable__control:checked~label.sk-toggleable__label-arrow:before {content: \"▾\";}#sk-container-id-1 div.sk-estimator input.sk-toggleable__control:checked~label.sk-toggleable__label {background-color: #d4ebff;}#sk-container-id-1 div.sk-label input.sk-toggleable__control:checked~label.sk-toggleable__label {background-color: #d4ebff;}#sk-container-id-1 input.sk-hidden--visually {border: 0;clip: rect(1px 1px 1px 1px);clip: rect(1px, 1px, 1px, 1px);height: 1px;margin: -1px;overflow: hidden;padding: 0;position: absolute;width: 1px;}#sk-container-id-1 div.sk-estimator {font-family: monospace;background-color: #f0f8ff;border: 1px dotted black;border-radius: 0.25em;box-sizing: border-box;margin-bottom: 0.5em;}#sk-container-id-1 div.sk-estimator:hover {background-color: #d4ebff;}#sk-container-id-1 div.sk-parallel-item::after {content: \"\";width: 100%;border-bottom: 1px solid gray;flex-grow: 1;}#sk-container-id-1 div.sk-label:hover label.sk-toggleable__label {background-color: #d4ebff;}#sk-container-id-1 div.sk-serial::before {content: \"\";position: absolute;border-left: 1px solid gray;box-sizing: border-box;top: 0;bottom: 0;left: 50%;z-index: 0;}#sk-container-id-1 div.sk-serial {display: flex;flex-direction: column;align-items: center;background-color: white;padding-right: 0.2em;padding-left: 0.2em;position: relative;}#sk-container-id-1 div.sk-item {position: relative;z-index: 1;}#sk-container-id-1 div.sk-parallel {display: flex;align-items: stretch;justify-content: center;background-color: white;position: relative;}#sk-container-id-1 div.sk-item::before, #sk-container-id-1 div.sk-parallel-item::before {content: \"\";position: absolute;border-left: 1px solid gray;box-sizing: border-box;top: 0;bottom: 0;left: 50%;z-index: -1;}#sk-container-id-1 div.sk-parallel-item {display: flex;flex-direction: column;z-index: 1;position: relative;background-color: white;}#sk-container-id-1 div.sk-parallel-item:first-child::after {align-self: flex-end;width: 50%;}#sk-container-id-1 div.sk-parallel-item:last-child::after {align-self: flex-start;width: 50%;}#sk-container-id-1 div.sk-parallel-item:only-child::after {width: 0;}#sk-container-id-1 div.sk-dashed-wrapped {border: 1px dashed gray;margin: 0 0.4em 0.5em 0.4em;box-sizing: border-box;padding-bottom: 0.4em;background-color: white;}#sk-container-id-1 div.sk-label label {font-family: monospace;font-weight: bold;display: inline-block;line-height: 1.2em;}#sk-container-id-1 div.sk-label-container {text-align: center;}#sk-container-id-1 div.sk-container {/* jupyter's `normalize.less` sets `[hidden] { display: none; }` but bootstrap.min.css set `[hidden] { display: none !important; }` so we also need the `!important` here to be able to override the default hidden behavior on the sphinx rendered scikit-learn.org. See: https://github.com/scikit-learn/scikit-learn/issues/21755 */display: inline-block !important;position: relative;}#sk-container-id-1 div.sk-text-repr-fallback {display: none;}</style><div id=\"sk-container-id-1\" class=\"sk-top-container\"><div class=\"sk-text-repr-fallback\"><pre>ColumnTransformer(transformers=[(&#x27;num&#x27;,\n",
       "                                 Pipeline(steps=[(&#x27;imputer&#x27;, SimpleImputer()),\n",
       "                                                 (&#x27;scaler&#x27;, StandardScaler())]),\n",
       "                                 [&#x27;idade_inicio_problema_atual&#x27;]),\n",
       "                                (&#x27;cat&#x27;,\n",
       "                                 Pipeline(steps=[(&#x27;imputer&#x27;,\n",
       "                                                  SimpleImputer(strategy=&#x27;most_frequent&#x27;)),\n",
       "                                                 (&#x27;onehot&#x27;,\n",
       "                                                  OneHotEncoder(drop=&#x27;first&#x27;,\n",
       "                                                                handle_unknown=&#x27;ignore&#x27;,\n",
       "                                                                sparse_output=False))]),\n",
       "                                 [&#x27;vc_tem_lesao_atualmente&#x27;, &#x27;onde_lesao&#x27;,\n",
       "                                  &#x27;tip...\n",
       "                                  &#x27;algum_filho_tem_ou_teve_cancer&#x27;,\n",
       "                                  &#x27;tipo_cancer_filho&#x27;, &#x27;pai_tem_ou_teve_cancer&#x27;,\n",
       "                                  &#x27;tipo_cancer_pai&#x27;, &#x27;mae_tem_ou_teve_cancer&#x27;,\n",
       "                                  &#x27;tipo_cancer_mae&#x27;,\n",
       "                                  &#x27;avo_paterno_tem_ou_teve_cancer&#x27;,\n",
       "                                  &#x27;tipo_cancer_avo_paterno&#x27;,\n",
       "                                  &#x27;avo_paterna_tem_ou_teve_cancer&#x27;,\n",
       "                                  &#x27;tipo_cancer_avo_paterna&#x27;,\n",
       "                                  &#x27;avo_materno_tem_ou_teve_cancer&#x27;,\n",
       "                                  &#x27;tipo_cancer_avo_materno&#x27;,\n",
       "                                  &#x27;avo_materna_tem_ou_teve_cancer&#x27;,\n",
       "                                  &#x27;tipo_cancer_avo_materna&#x27;])])</pre><b>In a Jupyter environment, please rerun this cell to show the HTML representation or trust the notebook. <br />On GitHub, the HTML representation is unable to render, please try loading this page with nbviewer.org.</b></div><div class=\"sk-container\" hidden><div class=\"sk-item sk-dashed-wrapped\"><div class=\"sk-label-container\"><div class=\"sk-label sk-toggleable\"><input class=\"sk-toggleable__control sk-hidden--visually\" id=\"sk-estimator-id-1\" type=\"checkbox\" ><label for=\"sk-estimator-id-1\" class=\"sk-toggleable__label sk-toggleable__label-arrow\">ColumnTransformer</label><div class=\"sk-toggleable__content\"><pre>ColumnTransformer(transformers=[(&#x27;num&#x27;,\n",
       "                                 Pipeline(steps=[(&#x27;imputer&#x27;, SimpleImputer()),\n",
       "                                                 (&#x27;scaler&#x27;, StandardScaler())]),\n",
       "                                 [&#x27;idade_inicio_problema_atual&#x27;]),\n",
       "                                (&#x27;cat&#x27;,\n",
       "                                 Pipeline(steps=[(&#x27;imputer&#x27;,\n",
       "                                                  SimpleImputer(strategy=&#x27;most_frequent&#x27;)),\n",
       "                                                 (&#x27;onehot&#x27;,\n",
       "                                                  OneHotEncoder(drop=&#x27;first&#x27;,\n",
       "                                                                handle_unknown=&#x27;ignore&#x27;,\n",
       "                                                                sparse_output=False))]),\n",
       "                                 [&#x27;vc_tem_lesao_atualmente&#x27;, &#x27;onde_lesao&#x27;,\n",
       "                                  &#x27;tip...\n",
       "                                  &#x27;algum_filho_tem_ou_teve_cancer&#x27;,\n",
       "                                  &#x27;tipo_cancer_filho&#x27;, &#x27;pai_tem_ou_teve_cancer&#x27;,\n",
       "                                  &#x27;tipo_cancer_pai&#x27;, &#x27;mae_tem_ou_teve_cancer&#x27;,\n",
       "                                  &#x27;tipo_cancer_mae&#x27;,\n",
       "                                  &#x27;avo_paterno_tem_ou_teve_cancer&#x27;,\n",
       "                                  &#x27;tipo_cancer_avo_paterno&#x27;,\n",
       "                                  &#x27;avo_paterna_tem_ou_teve_cancer&#x27;,\n",
       "                                  &#x27;tipo_cancer_avo_paterna&#x27;,\n",
       "                                  &#x27;avo_materno_tem_ou_teve_cancer&#x27;,\n",
       "                                  &#x27;tipo_cancer_avo_materno&#x27;,\n",
       "                                  &#x27;avo_materna_tem_ou_teve_cancer&#x27;,\n",
       "                                  &#x27;tipo_cancer_avo_materna&#x27;])])</pre></div></div></div><div class=\"sk-parallel\"><div class=\"sk-parallel-item\"><div class=\"sk-item\"><div class=\"sk-label-container\"><div class=\"sk-label sk-toggleable\"><input class=\"sk-toggleable__control sk-hidden--visually\" id=\"sk-estimator-id-2\" type=\"checkbox\" ><label for=\"sk-estimator-id-2\" class=\"sk-toggleable__label sk-toggleable__label-arrow\">num</label><div class=\"sk-toggleable__content\"><pre>[&#x27;idade_inicio_problema_atual&#x27;]</pre></div></div></div><div class=\"sk-serial\"><div class=\"sk-item\"><div class=\"sk-serial\"><div class=\"sk-item\"><div class=\"sk-estimator sk-toggleable\"><input class=\"sk-toggleable__control sk-hidden--visually\" id=\"sk-estimator-id-3\" type=\"checkbox\" ><label for=\"sk-estimator-id-3\" class=\"sk-toggleable__label sk-toggleable__label-arrow\">SimpleImputer</label><div class=\"sk-toggleable__content\"><pre>SimpleImputer()</pre></div></div></div><div class=\"sk-item\"><div class=\"sk-estimator sk-toggleable\"><input class=\"sk-toggleable__control sk-hidden--visually\" id=\"sk-estimator-id-4\" type=\"checkbox\" ><label for=\"sk-estimator-id-4\" class=\"sk-toggleable__label sk-toggleable__label-arrow\">StandardScaler</label><div class=\"sk-toggleable__content\"><pre>StandardScaler()</pre></div></div></div></div></div></div></div></div><div class=\"sk-parallel-item\"><div class=\"sk-item\"><div class=\"sk-label-container\"><div class=\"sk-label sk-toggleable\"><input class=\"sk-toggleable__control sk-hidden--visually\" id=\"sk-estimator-id-5\" type=\"checkbox\" ><label for=\"sk-estimator-id-5\" class=\"sk-toggleable__label sk-toggleable__label-arrow\">cat</label><div class=\"sk-toggleable__content\"><pre>[&#x27;vc_tem_lesao_atualmente&#x27;, &#x27;onde_lesao&#x27;, &#x27;tipo_cancer_paciente&#x27;, &#x27;algum_filho_tem_ou_teve_cancer&#x27;, &#x27;tipo_cancer_filho&#x27;, &#x27;pai_tem_ou_teve_cancer&#x27;, &#x27;tipo_cancer_pai&#x27;, &#x27;mae_tem_ou_teve_cancer&#x27;, &#x27;tipo_cancer_mae&#x27;, &#x27;avo_paterno_tem_ou_teve_cancer&#x27;, &#x27;tipo_cancer_avo_paterno&#x27;, &#x27;avo_paterna_tem_ou_teve_cancer&#x27;, &#x27;tipo_cancer_avo_paterna&#x27;, &#x27;avo_materno_tem_ou_teve_cancer&#x27;, &#x27;tipo_cancer_avo_materno&#x27;, &#x27;avo_materna_tem_ou_teve_cancer&#x27;, &#x27;tipo_cancer_avo_materna&#x27;]</pre></div></div></div><div class=\"sk-serial\"><div class=\"sk-item\"><div class=\"sk-serial\"><div class=\"sk-item\"><div class=\"sk-estimator sk-toggleable\"><input class=\"sk-toggleable__control sk-hidden--visually\" id=\"sk-estimator-id-6\" type=\"checkbox\" ><label for=\"sk-estimator-id-6\" class=\"sk-toggleable__label sk-toggleable__label-arrow\">SimpleImputer</label><div class=\"sk-toggleable__content\"><pre>SimpleImputer(strategy=&#x27;most_frequent&#x27;)</pre></div></div></div><div class=\"sk-item\"><div class=\"sk-estimator sk-toggleable\"><input class=\"sk-toggleable__control sk-hidden--visually\" id=\"sk-estimator-id-7\" type=\"checkbox\" ><label for=\"sk-estimator-id-7\" class=\"sk-toggleable__label sk-toggleable__label-arrow\">OneHotEncoder</label><div class=\"sk-toggleable__content\"><pre>OneHotEncoder(drop=&#x27;first&#x27;, handle_unknown=&#x27;ignore&#x27;, sparse_output=False)</pre></div></div></div></div></div></div></div></div></div></div></div></div>"
      ],
      "text/plain": [
       "ColumnTransformer(transformers=[('num',\n",
       "                                 Pipeline(steps=[('imputer', SimpleImputer()),\n",
       "                                                 ('scaler', StandardScaler())]),\n",
       "                                 ['idade_inicio_problema_atual']),\n",
       "                                ('cat',\n",
       "                                 Pipeline(steps=[('imputer',\n",
       "                                                  SimpleImputer(strategy='most_frequent')),\n",
       "                                                 ('onehot',\n",
       "                                                  OneHotEncoder(drop='first',\n",
       "                                                                handle_unknown='ignore',\n",
       "                                                                sparse_output=False))]),\n",
       "                                 ['vc_tem_lesao_atualmente', 'onde_lesao',\n",
       "                                  'tip...\n",
       "                                  'algum_filho_tem_ou_teve_cancer',\n",
       "                                  'tipo_cancer_filho', 'pai_tem_ou_teve_cancer',\n",
       "                                  'tipo_cancer_pai', 'mae_tem_ou_teve_cancer',\n",
       "                                  'tipo_cancer_mae',\n",
       "                                  'avo_paterno_tem_ou_teve_cancer',\n",
       "                                  'tipo_cancer_avo_paterno',\n",
       "                                  'avo_paterna_tem_ou_teve_cancer',\n",
       "                                  'tipo_cancer_avo_paterna',\n",
       "                                  'avo_materno_tem_ou_teve_cancer',\n",
       "                                  'tipo_cancer_avo_materno',\n",
       "                                  'avo_materna_tem_ou_teve_cancer',\n",
       "                                  'tipo_cancer_avo_materna'])])"
      ]
     },
     "execution_count": 9,
     "metadata": {},
     "output_type": "execute_result"
    }
   ],
   "source": [
    "preprocessor"
   ]
  },
  {
   "cell_type": "markdown",
   "metadata": {},
   "source": [
    "### Model Selection"
   ]
  },
  {
   "cell_type": "code",
   "execution_count": 10,
   "metadata": {},
   "outputs": [],
   "source": [
    "models = {\n",
    "    'LR': LogisticRegression(max_iter=1000),\n",
    "    'KNN': KNeighborsClassifier(),\n",
    "    'DTC': DecisionTreeClassifier(),\n",
    "    'GBC': GradientBoostingClassifier(),\n",
    "    'RF': RandomForestClassifier(),\n",
    "}\n"
   ]
  },
  {
   "cell_type": "code",
   "execution_count": 11,
   "metadata": {},
   "outputs": [],
   "source": [
    "results = evaluate_models_roc(X, y, models, preprocessor, n_splits=10)"
   ]
  },
  {
   "cell_type": "code",
   "execution_count": 12,
   "metadata": {},
   "outputs": [
    {
     "name": "stdout",
     "output_type": "stream",
     "text": [
      "{'DTC': [0.5102991794324437,\n",
      "         0.510626308066825,\n",
      "         0.5156287495925815,\n",
      "         0.5438543394090911,\n",
      "         0.48625820955573784,\n",
      "         0.4925220065640629,\n",
      "         0.48691664547493946,\n",
      "         0.49467819019067777,\n",
      "         0.5244349569181139,\n",
      "         0.511419057750143],\n",
      " 'GBC': [0.6590836100196874,\n",
      "         0.6620510487815652,\n",
      "         0.636693207066456,\n",
      "         0.6653193503750637,\n",
      "         0.6582132568282133,\n",
      "         0.6724457402240474,\n",
      "         0.6467774844763134,\n",
      "         0.6567561017250663,\n",
      "         0.6723872391178989,\n",
      "         0.6687046541808592],\n",
      " 'KNN': [0.5656113783457558,\n",
      "         0.5603606055938997,\n",
      "         0.5621496649319297,\n",
      "         0.5908384879971251,\n",
      "         0.5648610121168924,\n",
      "         0.5806187029230256,\n",
      "         0.5787251773240162,\n",
      "         0.578310893980475,\n",
      "         0.5891843393732741,\n",
      "         0.5597636555311603],\n",
      " 'LR': [0.6633798596212233,\n",
      "        0.6579685073024901,\n",
      "        0.6341251278965508,\n",
      "        0.662523236281192,\n",
      "        0.6542095127574197,\n",
      "        0.6695027764147419,\n",
      "        0.641747583247671,\n",
      "        0.6614373841170691,\n",
      "        0.6665126535504798,\n",
      "        0.6611454755363895],\n",
      " 'RF': [0.6063520262275979,\n",
      "        0.6277896968806972,\n",
      "        0.5880769970068924,\n",
      "        0.6248753866744031,\n",
      "        0.6305535756711808,\n",
      "        0.6298802160004107,\n",
      "        0.5958809251770852,\n",
      "        0.5997348347821312,\n",
      "        0.6268274133795612,\n",
      "        0.6265062542458073]}\n"
     ]
    }
   ],
   "source": [
    "pprint(results)"
   ]
  },
  {
   "cell_type": "code",
   "execution_count": 13,
   "metadata": {},
   "outputs": [
    {
     "data": {
      "text/html": [
       "<div>\n",
       "<style scoped>\n",
       "    .dataframe tbody tr th:only-of-type {\n",
       "        vertical-align: middle;\n",
       "    }\n",
       "\n",
       "    .dataframe tbody tr th {\n",
       "        vertical-align: top;\n",
       "    }\n",
       "\n",
       "    .dataframe thead th {\n",
       "        text-align: right;\n",
       "    }\n",
       "</style>\n",
       "<table border=\"1\" class=\"dataframe\">\n",
       "  <thead>\n",
       "    <tr style=\"text-align: right;\">\n",
       "      <th></th>\n",
       "      <th>Modelo</th>\n",
       "      <th>Média_Curva_ROC</th>\n",
       "      <th>Desvio_Padrao</th>\n",
       "      <th>Margem_Erro_ROC</th>\n",
       "    </tr>\n",
       "  </thead>\n",
       "  <tbody>\n",
       "    <tr>\n",
       "      <th>0</th>\n",
       "      <td>LR</td>\n",
       "      <td>0.657255</td>\n",
       "      <td>0.011150</td>\n",
       "      <td>0.007052</td>\n",
       "    </tr>\n",
       "    <tr>\n",
       "      <th>1</th>\n",
       "      <td>KNN</td>\n",
       "      <td>0.573042</td>\n",
       "      <td>0.011892</td>\n",
       "      <td>0.007521</td>\n",
       "    </tr>\n",
       "    <tr>\n",
       "      <th>2</th>\n",
       "      <td>DTC</td>\n",
       "      <td>0.507664</td>\n",
       "      <td>0.018168</td>\n",
       "      <td>0.011491</td>\n",
       "    </tr>\n",
       "    <tr>\n",
       "      <th>3</th>\n",
       "      <td>GBC</td>\n",
       "      <td>0.659843</td>\n",
       "      <td>0.011299</td>\n",
       "      <td>0.007146</td>\n",
       "    </tr>\n",
       "    <tr>\n",
       "      <th>4</th>\n",
       "      <td>RF</td>\n",
       "      <td>0.615648</td>\n",
       "      <td>0.016298</td>\n",
       "      <td>0.010308</td>\n",
       "    </tr>\n",
       "  </tbody>\n",
       "</table>\n",
       "</div>"
      ],
      "text/plain": [
       "  Modelo  Média_Curva_ROC  Desvio_Padrao  Margem_Erro_ROC\n",
       "0     LR         0.657255       0.011150         0.007052\n",
       "1    KNN         0.573042       0.011892         0.007521\n",
       "2    DTC         0.507664       0.018168         0.011491\n",
       "3    GBC         0.659843       0.011299         0.007146\n",
       "4     RF         0.615648       0.016298         0.010308"
      ]
     },
     "execution_count": 13,
     "metadata": {},
     "output_type": "execute_result"
    }
   ],
   "source": [
    "# Comparação de curvas_roc\n",
    "media_roc = {}\n",
    "desvio_padrao_roc = {}\n",
    "margem_erro_roc = {}\n",
    "\n",
    "for modelo, acuracias in results.items():\n",
    "    media_roc[modelo] = np.mean(acuracias)\n",
    "    desvio_padrao_roc[modelo] = np.std(acuracias,ddof=1)\n",
    "    margem_erro_roc[modelo] = 2.0 * desvio_padrao_roc[modelo] / np.sqrt(len(acuracias))\n",
    "\n",
    "\n",
    "comparacao_modelos = pd.DataFrame({'Modelo': list(results.keys()),\n",
    "                   'Média_Curva_ROC': list(media_roc.values()),\n",
    "                   'Desvio_Padrao': list(desvio_padrao_roc.values()),\n",
    "                   'Margem_Erro_ROC': list(margem_erro_roc.values())\n",
    "                   })\n",
    "\n",
    "comparacao_modelos"
   ]
  },
  {
   "cell_type": "code",
   "execution_count": 14,
   "metadata": {},
   "outputs": [
    {
     "data": {
      "application/vnd.plotly.v1+json": {
       "config": {
        "plotlyServerURL": "https://plot.ly"
       },
       "data": [
        {
         "error_y": {
          "array": [
           0.0070517565177669285
          ],
          "type": "data"
         },
         "name": "LR",
         "type": "bar",
         "x": [
          "LR"
         ],
         "y": [
          0.6572552116725228
         ]
        },
        {
         "error_y": {
          "array": [
           0.007520857337238206
          ],
          "type": "data"
         },
         "name": "KNN",
         "type": "bar",
         "x": [
          "KNN"
         ],
         "y": [
          0.5730423918117554
         ]
        },
        {
         "error_y": {
          "array": [
           0.011490739464440888
          ],
          "type": "data"
         },
         "name": "DTC",
         "type": "bar",
         "x": [
          "DTC"
         ],
         "y": [
          0.5076637642954617
         ]
        },
        {
         "error_y": {
          "array": [
           0.007145982831904902
          ],
          "type": "data"
         },
         "name": "GBC",
         "type": "bar",
         "x": [
          "GBC"
         ],
         "y": [
          0.659843169279517
         ]
        },
        {
         "error_y": {
          "array": [
           0.010307968876650857
          ],
          "type": "data"
         },
         "name": "RF",
         "type": "bar",
         "x": [
          "RF"
         ],
         "y": [
          0.6156477326045767
         ]
        }
       ],
       "layout": {
        "height": 600,
        "template": {
         "data": {
          "bar": [
           {
            "error_x": {
             "color": "#2a3f5f"
            },
            "error_y": {
             "color": "#2a3f5f"
            },
            "marker": {
             "line": {
              "color": "#E5ECF6",
              "width": 0.5
             },
             "pattern": {
              "fillmode": "overlay",
              "size": 10,
              "solidity": 0.2
             }
            },
            "type": "bar"
           }
          ],
          "barpolar": [
           {
            "marker": {
             "line": {
              "color": "#E5ECF6",
              "width": 0.5
             },
             "pattern": {
              "fillmode": "overlay",
              "size": 10,
              "solidity": 0.2
             }
            },
            "type": "barpolar"
           }
          ],
          "carpet": [
           {
            "aaxis": {
             "endlinecolor": "#2a3f5f",
             "gridcolor": "white",
             "linecolor": "white",
             "minorgridcolor": "white",
             "startlinecolor": "#2a3f5f"
            },
            "baxis": {
             "endlinecolor": "#2a3f5f",
             "gridcolor": "white",
             "linecolor": "white",
             "minorgridcolor": "white",
             "startlinecolor": "#2a3f5f"
            },
            "type": "carpet"
           }
          ],
          "choropleth": [
           {
            "colorbar": {
             "outlinewidth": 0,
             "ticks": ""
            },
            "type": "choropleth"
           }
          ],
          "contour": [
           {
            "colorbar": {
             "outlinewidth": 0,
             "ticks": ""
            },
            "colorscale": [
             [
              0,
              "#0d0887"
             ],
             [
              0.1111111111111111,
              "#46039f"
             ],
             [
              0.2222222222222222,
              "#7201a8"
             ],
             [
              0.3333333333333333,
              "#9c179e"
             ],
             [
              0.4444444444444444,
              "#bd3786"
             ],
             [
              0.5555555555555556,
              "#d8576b"
             ],
             [
              0.6666666666666666,
              "#ed7953"
             ],
             [
              0.7777777777777778,
              "#fb9f3a"
             ],
             [
              0.8888888888888888,
              "#fdca26"
             ],
             [
              1,
              "#f0f921"
             ]
            ],
            "type": "contour"
           }
          ],
          "contourcarpet": [
           {
            "colorbar": {
             "outlinewidth": 0,
             "ticks": ""
            },
            "type": "contourcarpet"
           }
          ],
          "heatmap": [
           {
            "colorbar": {
             "outlinewidth": 0,
             "ticks": ""
            },
            "colorscale": [
             [
              0,
              "#0d0887"
             ],
             [
              0.1111111111111111,
              "#46039f"
             ],
             [
              0.2222222222222222,
              "#7201a8"
             ],
             [
              0.3333333333333333,
              "#9c179e"
             ],
             [
              0.4444444444444444,
              "#bd3786"
             ],
             [
              0.5555555555555556,
              "#d8576b"
             ],
             [
              0.6666666666666666,
              "#ed7953"
             ],
             [
              0.7777777777777778,
              "#fb9f3a"
             ],
             [
              0.8888888888888888,
              "#fdca26"
             ],
             [
              1,
              "#f0f921"
             ]
            ],
            "type": "heatmap"
           }
          ],
          "heatmapgl": [
           {
            "colorbar": {
             "outlinewidth": 0,
             "ticks": ""
            },
            "colorscale": [
             [
              0,
              "#0d0887"
             ],
             [
              0.1111111111111111,
              "#46039f"
             ],
             [
              0.2222222222222222,
              "#7201a8"
             ],
             [
              0.3333333333333333,
              "#9c179e"
             ],
             [
              0.4444444444444444,
              "#bd3786"
             ],
             [
              0.5555555555555556,
              "#d8576b"
             ],
             [
              0.6666666666666666,
              "#ed7953"
             ],
             [
              0.7777777777777778,
              "#fb9f3a"
             ],
             [
              0.8888888888888888,
              "#fdca26"
             ],
             [
              1,
              "#f0f921"
             ]
            ],
            "type": "heatmapgl"
           }
          ],
          "histogram": [
           {
            "marker": {
             "pattern": {
              "fillmode": "overlay",
              "size": 10,
              "solidity": 0.2
             }
            },
            "type": "histogram"
           }
          ],
          "histogram2d": [
           {
            "colorbar": {
             "outlinewidth": 0,
             "ticks": ""
            },
            "colorscale": [
             [
              0,
              "#0d0887"
             ],
             [
              0.1111111111111111,
              "#46039f"
             ],
             [
              0.2222222222222222,
              "#7201a8"
             ],
             [
              0.3333333333333333,
              "#9c179e"
             ],
             [
              0.4444444444444444,
              "#bd3786"
             ],
             [
              0.5555555555555556,
              "#d8576b"
             ],
             [
              0.6666666666666666,
              "#ed7953"
             ],
             [
              0.7777777777777778,
              "#fb9f3a"
             ],
             [
              0.8888888888888888,
              "#fdca26"
             ],
             [
              1,
              "#f0f921"
             ]
            ],
            "type": "histogram2d"
           }
          ],
          "histogram2dcontour": [
           {
            "colorbar": {
             "outlinewidth": 0,
             "ticks": ""
            },
            "colorscale": [
             [
              0,
              "#0d0887"
             ],
             [
              0.1111111111111111,
              "#46039f"
             ],
             [
              0.2222222222222222,
              "#7201a8"
             ],
             [
              0.3333333333333333,
              "#9c179e"
             ],
             [
              0.4444444444444444,
              "#bd3786"
             ],
             [
              0.5555555555555556,
              "#d8576b"
             ],
             [
              0.6666666666666666,
              "#ed7953"
             ],
             [
              0.7777777777777778,
              "#fb9f3a"
             ],
             [
              0.8888888888888888,
              "#fdca26"
             ],
             [
              1,
              "#f0f921"
             ]
            ],
            "type": "histogram2dcontour"
           }
          ],
          "mesh3d": [
           {
            "colorbar": {
             "outlinewidth": 0,
             "ticks": ""
            },
            "type": "mesh3d"
           }
          ],
          "parcoords": [
           {
            "line": {
             "colorbar": {
              "outlinewidth": 0,
              "ticks": ""
             }
            },
            "type": "parcoords"
           }
          ],
          "pie": [
           {
            "automargin": true,
            "type": "pie"
           }
          ],
          "scatter": [
           {
            "fillpattern": {
             "fillmode": "overlay",
             "size": 10,
             "solidity": 0.2
            },
            "type": "scatter"
           }
          ],
          "scatter3d": [
           {
            "line": {
             "colorbar": {
              "outlinewidth": 0,
              "ticks": ""
             }
            },
            "marker": {
             "colorbar": {
              "outlinewidth": 0,
              "ticks": ""
             }
            },
            "type": "scatter3d"
           }
          ],
          "scattercarpet": [
           {
            "marker": {
             "colorbar": {
              "outlinewidth": 0,
              "ticks": ""
             }
            },
            "type": "scattercarpet"
           }
          ],
          "scattergeo": [
           {
            "marker": {
             "colorbar": {
              "outlinewidth": 0,
              "ticks": ""
             }
            },
            "type": "scattergeo"
           }
          ],
          "scattergl": [
           {
            "marker": {
             "colorbar": {
              "outlinewidth": 0,
              "ticks": ""
             }
            },
            "type": "scattergl"
           }
          ],
          "scattermapbox": [
           {
            "marker": {
             "colorbar": {
              "outlinewidth": 0,
              "ticks": ""
             }
            },
            "type": "scattermapbox"
           }
          ],
          "scatterpolar": [
           {
            "marker": {
             "colorbar": {
              "outlinewidth": 0,
              "ticks": ""
             }
            },
            "type": "scatterpolar"
           }
          ],
          "scatterpolargl": [
           {
            "marker": {
             "colorbar": {
              "outlinewidth": 0,
              "ticks": ""
             }
            },
            "type": "scatterpolargl"
           }
          ],
          "scatterternary": [
           {
            "marker": {
             "colorbar": {
              "outlinewidth": 0,
              "ticks": ""
             }
            },
            "type": "scatterternary"
           }
          ],
          "surface": [
           {
            "colorbar": {
             "outlinewidth": 0,
             "ticks": ""
            },
            "colorscale": [
             [
              0,
              "#0d0887"
             ],
             [
              0.1111111111111111,
              "#46039f"
             ],
             [
              0.2222222222222222,
              "#7201a8"
             ],
             [
              0.3333333333333333,
              "#9c179e"
             ],
             [
              0.4444444444444444,
              "#bd3786"
             ],
             [
              0.5555555555555556,
              "#d8576b"
             ],
             [
              0.6666666666666666,
              "#ed7953"
             ],
             [
              0.7777777777777778,
              "#fb9f3a"
             ],
             [
              0.8888888888888888,
              "#fdca26"
             ],
             [
              1,
              "#f0f921"
             ]
            ],
            "type": "surface"
           }
          ],
          "table": [
           {
            "cells": {
             "fill": {
              "color": "#EBF0F8"
             },
             "line": {
              "color": "white"
             }
            },
            "header": {
             "fill": {
              "color": "#C8D4E3"
             },
             "line": {
              "color": "white"
             }
            },
            "type": "table"
           }
          ]
         },
         "layout": {
          "annotationdefaults": {
           "arrowcolor": "#2a3f5f",
           "arrowhead": 0,
           "arrowwidth": 1
          },
          "autotypenumbers": "strict",
          "coloraxis": {
           "colorbar": {
            "outlinewidth": 0,
            "ticks": ""
           }
          },
          "colorscale": {
           "diverging": [
            [
             0,
             "#8e0152"
            ],
            [
             0.1,
             "#c51b7d"
            ],
            [
             0.2,
             "#de77ae"
            ],
            [
             0.3,
             "#f1b6da"
            ],
            [
             0.4,
             "#fde0ef"
            ],
            [
             0.5,
             "#f7f7f7"
            ],
            [
             0.6,
             "#e6f5d0"
            ],
            [
             0.7,
             "#b8e186"
            ],
            [
             0.8,
             "#7fbc41"
            ],
            [
             0.9,
             "#4d9221"
            ],
            [
             1,
             "#276419"
            ]
           ],
           "sequential": [
            [
             0,
             "#0d0887"
            ],
            [
             0.1111111111111111,
             "#46039f"
            ],
            [
             0.2222222222222222,
             "#7201a8"
            ],
            [
             0.3333333333333333,
             "#9c179e"
            ],
            [
             0.4444444444444444,
             "#bd3786"
            ],
            [
             0.5555555555555556,
             "#d8576b"
            ],
            [
             0.6666666666666666,
             "#ed7953"
            ],
            [
             0.7777777777777778,
             "#fb9f3a"
            ],
            [
             0.8888888888888888,
             "#fdca26"
            ],
            [
             1,
             "#f0f921"
            ]
           ],
           "sequentialminus": [
            [
             0,
             "#0d0887"
            ],
            [
             0.1111111111111111,
             "#46039f"
            ],
            [
             0.2222222222222222,
             "#7201a8"
            ],
            [
             0.3333333333333333,
             "#9c179e"
            ],
            [
             0.4444444444444444,
             "#bd3786"
            ],
            [
             0.5555555555555556,
             "#d8576b"
            ],
            [
             0.6666666666666666,
             "#ed7953"
            ],
            [
             0.7777777777777778,
             "#fb9f3a"
            ],
            [
             0.8888888888888888,
             "#fdca26"
            ],
            [
             1,
             "#f0f921"
            ]
           ]
          },
          "colorway": [
           "#636efa",
           "#EF553B",
           "#00cc96",
           "#ab63fa",
           "#FFA15A",
           "#19d3f3",
           "#FF6692",
           "#B6E880",
           "#FF97FF",
           "#FECB52"
          ],
          "font": {
           "color": "#2a3f5f"
          },
          "geo": {
           "bgcolor": "white",
           "lakecolor": "white",
           "landcolor": "#E5ECF6",
           "showlakes": true,
           "showland": true,
           "subunitcolor": "white"
          },
          "hoverlabel": {
           "align": "left"
          },
          "hovermode": "closest",
          "mapbox": {
           "style": "light"
          },
          "paper_bgcolor": "white",
          "plot_bgcolor": "#E5ECF6",
          "polar": {
           "angularaxis": {
            "gridcolor": "white",
            "linecolor": "white",
            "ticks": ""
           },
           "bgcolor": "#E5ECF6",
           "radialaxis": {
            "gridcolor": "white",
            "linecolor": "white",
            "ticks": ""
           }
          },
          "scene": {
           "xaxis": {
            "backgroundcolor": "#E5ECF6",
            "gridcolor": "white",
            "gridwidth": 2,
            "linecolor": "white",
            "showbackground": true,
            "ticks": "",
            "zerolinecolor": "white"
           },
           "yaxis": {
            "backgroundcolor": "#E5ECF6",
            "gridcolor": "white",
            "gridwidth": 2,
            "linecolor": "white",
            "showbackground": true,
            "ticks": "",
            "zerolinecolor": "white"
           },
           "zaxis": {
            "backgroundcolor": "#E5ECF6",
            "gridcolor": "white",
            "gridwidth": 2,
            "linecolor": "white",
            "showbackground": true,
            "ticks": "",
            "zerolinecolor": "white"
           }
          },
          "shapedefaults": {
           "line": {
            "color": "#2a3f5f"
           }
          },
          "ternary": {
           "aaxis": {
            "gridcolor": "white",
            "linecolor": "white",
            "ticks": ""
           },
           "baxis": {
            "gridcolor": "white",
            "linecolor": "white",
            "ticks": ""
           },
           "bgcolor": "#E5ECF6",
           "caxis": {
            "gridcolor": "white",
            "linecolor": "white",
            "ticks": ""
           }
          },
          "title": {
           "x": 0.05
          },
          "xaxis": {
           "automargin": true,
           "gridcolor": "white",
           "linecolor": "white",
           "ticks": "",
           "title": {
            "standoff": 15
           },
           "zerolinecolor": "white",
           "zerolinewidth": 2
          },
          "yaxis": {
           "automargin": true,
           "gridcolor": "white",
           "linecolor": "white",
           "ticks": "",
           "title": {
            "standoff": 15
           },
           "zerolinecolor": "white",
           "zerolinewidth": 2
          }
         }
        },
        "title": {
         "text": "Comparação Curva ROC"
        },
        "width": 1000,
        "xaxis": {
         "title": {
          "text": "Modelo"
         }
        },
        "yaxis": {
         "title": {
          "text": "AUC"
         }
        }
       }
      }
     },
     "metadata": {},
     "output_type": "display_data"
    }
   ],
   "source": [
    "# Plotar os resultados\n",
    "fig = go.Figure()\n",
    "\n",
    "for name, result in results.items():\n",
    "    fig.add_trace(go.Bar(\n",
    "        x=[name],\n",
    "        y=[mean(result)],\n",
    "        error_y=dict(type='data', array=[2.0*stdev(result)/np.sqrt(len(result))]),\n",
    "        name=name\n",
    "    ))\n",
    "\n",
    "fig.update_layout(\n",
    "    title='Comparação Curva ROC',\n",
    "    xaxis_title='Modelo',\n",
    "    yaxis_title='AUC',\n",
    "    width=1000,\n",
    "    height=600,\n",
    ")\n",
    "\n",
    "fig.show()"
   ]
  },
  {
   "cell_type": "code",
   "execution_count": 15,
   "metadata": {},
   "outputs": [],
   "source": [
    "results_acuracy = evaluate_models_accuracy(X, y, models, preprocessor, n_splits=10)"
   ]
  },
  {
   "cell_type": "code",
   "execution_count": 16,
   "metadata": {},
   "outputs": [
    {
     "data": {
      "text/html": [
       "<div>\n",
       "<style scoped>\n",
       "    .dataframe tbody tr th:only-of-type {\n",
       "        vertical-align: middle;\n",
       "    }\n",
       "\n",
       "    .dataframe tbody tr th {\n",
       "        vertical-align: top;\n",
       "    }\n",
       "\n",
       "    .dataframe thead th {\n",
       "        text-align: right;\n",
       "    }\n",
       "</style>\n",
       "<table border=\"1\" class=\"dataframe\">\n",
       "  <thead>\n",
       "    <tr style=\"text-align: right;\">\n",
       "      <th></th>\n",
       "      <th>Modelo</th>\n",
       "      <th>Média_Acurácia</th>\n",
       "      <th>Desvio_Padrao_Acurácia</th>\n",
       "      <th>Margem_Erro_Acurácia</th>\n",
       "    </tr>\n",
       "  </thead>\n",
       "  <tbody>\n",
       "    <tr>\n",
       "      <th>0</th>\n",
       "      <td>LR</td>\n",
       "      <td>0.71265</td>\n",
       "      <td>0.008258</td>\n",
       "      <td>0.005223</td>\n",
       "    </tr>\n",
       "    <tr>\n",
       "      <th>1</th>\n",
       "      <td>KNN</td>\n",
       "      <td>0.67475</td>\n",
       "      <td>0.008436</td>\n",
       "      <td>0.005335</td>\n",
       "    </tr>\n",
       "    <tr>\n",
       "      <th>2</th>\n",
       "      <td>DTC</td>\n",
       "      <td>0.64340</td>\n",
       "      <td>0.011447</td>\n",
       "      <td>0.007240</td>\n",
       "    </tr>\n",
       "    <tr>\n",
       "      <th>3</th>\n",
       "      <td>GBC</td>\n",
       "      <td>0.71340</td>\n",
       "      <td>0.007703</td>\n",
       "      <td>0.004872</td>\n",
       "    </tr>\n",
       "    <tr>\n",
       "      <th>4</th>\n",
       "      <td>RF</td>\n",
       "      <td>0.68090</td>\n",
       "      <td>0.009653</td>\n",
       "      <td>0.006105</td>\n",
       "    </tr>\n",
       "  </tbody>\n",
       "</table>\n",
       "</div>"
      ],
      "text/plain": [
       "  Modelo  Média_Acurácia  Desvio_Padrao_Acurácia  Margem_Erro_Acurácia\n",
       "0     LR         0.71265                0.008258              0.005223\n",
       "1    KNN         0.67475                0.008436              0.005335\n",
       "2    DTC         0.64340                0.011447              0.007240\n",
       "3    GBC         0.71340                0.007703              0.004872\n",
       "4     RF         0.68090                0.009653              0.006105"
      ]
     },
     "execution_count": 16,
     "metadata": {},
     "output_type": "execute_result"
    }
   ],
   "source": [
    "# Comparação de acurácias\n",
    "media_acuracia = {}\n",
    "desvio_padrao_acuracia = {}\n",
    "margem_erro_acuracia = {}\n",
    "\n",
    "for modelo, acuracias in results_acuracy.items():\n",
    "    media_acuracia[modelo] = np.mean(acuracias)\n",
    "    desvio_padrao_acuracia[modelo] = np.std(acuracias)\n",
    "    margem_erro_acuracia[modelo] = 2.0 * desvio_padrao_acuracia[modelo] / np.sqrt(len(acuracias))\n",
    "\n",
    "comparacao_modelos_acurracy = pd.DataFrame({\n",
    "    'Modelo': list(results_acuracy.keys()),\n",
    "    'Média_Acurácia': list(media_acuracia.values()),\n",
    "    'Desvio_Padrao_Acurácia': list(desvio_padrao_acuracia.values()),\n",
    "    'Margem_Erro_Acurácia': list(margem_erro_acuracia.values())\n",
    "})\n",
    "\n",
    "comparacao_modelos_acurracy"
   ]
  },
  {
   "cell_type": "code",
   "execution_count": 17,
   "metadata": {},
   "outputs": [
    {
     "data": {
      "application/vnd.plotly.v1+json": {
       "config": {
        "plotlyServerURL": "https://plot.ly"
       },
       "data": [
        {
         "error_y": {
          "array": [
           0.005505653659850234
          ],
          "type": "data"
         },
         "name": "LR",
         "type": "bar",
         "x": [
          "LR"
         ],
         "y": [
          0.71265
         ]
        },
        {
         "error_y": {
          "array": [
           0.005623857908747133
          ],
          "type": "data"
         },
         "name": "KNN",
         "type": "bar",
         "x": [
          "KNN"
         ],
         "y": [
          0.67475
         ]
        },
        {
         "error_y": {
          "array": [
           0.007631513611335568
          ],
          "type": "data"
         },
         "name": "DTC",
         "type": "bar",
         "x": [
          "DTC"
         ],
         "y": [
          0.6434
         ]
        },
        {
         "error_y": {
          "array": [
           0.005135497379352211
          ],
          "type": "data"
         },
         "name": "GBC",
         "type": "bar",
         "x": [
          "GBC"
         ],
         "y": [
          0.7134
         ]
        },
        {
         "error_y": {
          "array": [
           0.00643566451718683
          ],
          "type": "data"
         },
         "name": "RF",
         "type": "bar",
         "x": [
          "RF"
         ],
         "y": [
          0.6809
         ]
        }
       ],
       "layout": {
        "height": 600,
        "template": {
         "data": {
          "bar": [
           {
            "error_x": {
             "color": "#2a3f5f"
            },
            "error_y": {
             "color": "#2a3f5f"
            },
            "marker": {
             "line": {
              "color": "#E5ECF6",
              "width": 0.5
             },
             "pattern": {
              "fillmode": "overlay",
              "size": 10,
              "solidity": 0.2
             }
            },
            "type": "bar"
           }
          ],
          "barpolar": [
           {
            "marker": {
             "line": {
              "color": "#E5ECF6",
              "width": 0.5
             },
             "pattern": {
              "fillmode": "overlay",
              "size": 10,
              "solidity": 0.2
             }
            },
            "type": "barpolar"
           }
          ],
          "carpet": [
           {
            "aaxis": {
             "endlinecolor": "#2a3f5f",
             "gridcolor": "white",
             "linecolor": "white",
             "minorgridcolor": "white",
             "startlinecolor": "#2a3f5f"
            },
            "baxis": {
             "endlinecolor": "#2a3f5f",
             "gridcolor": "white",
             "linecolor": "white",
             "minorgridcolor": "white",
             "startlinecolor": "#2a3f5f"
            },
            "type": "carpet"
           }
          ],
          "choropleth": [
           {
            "colorbar": {
             "outlinewidth": 0,
             "ticks": ""
            },
            "type": "choropleth"
           }
          ],
          "contour": [
           {
            "colorbar": {
             "outlinewidth": 0,
             "ticks": ""
            },
            "colorscale": [
             [
              0,
              "#0d0887"
             ],
             [
              0.1111111111111111,
              "#46039f"
             ],
             [
              0.2222222222222222,
              "#7201a8"
             ],
             [
              0.3333333333333333,
              "#9c179e"
             ],
             [
              0.4444444444444444,
              "#bd3786"
             ],
             [
              0.5555555555555556,
              "#d8576b"
             ],
             [
              0.6666666666666666,
              "#ed7953"
             ],
             [
              0.7777777777777778,
              "#fb9f3a"
             ],
             [
              0.8888888888888888,
              "#fdca26"
             ],
             [
              1,
              "#f0f921"
             ]
            ],
            "type": "contour"
           }
          ],
          "contourcarpet": [
           {
            "colorbar": {
             "outlinewidth": 0,
             "ticks": ""
            },
            "type": "contourcarpet"
           }
          ],
          "heatmap": [
           {
            "colorbar": {
             "outlinewidth": 0,
             "ticks": ""
            },
            "colorscale": [
             [
              0,
              "#0d0887"
             ],
             [
              0.1111111111111111,
              "#46039f"
             ],
             [
              0.2222222222222222,
              "#7201a8"
             ],
             [
              0.3333333333333333,
              "#9c179e"
             ],
             [
              0.4444444444444444,
              "#bd3786"
             ],
             [
              0.5555555555555556,
              "#d8576b"
             ],
             [
              0.6666666666666666,
              "#ed7953"
             ],
             [
              0.7777777777777778,
              "#fb9f3a"
             ],
             [
              0.8888888888888888,
              "#fdca26"
             ],
             [
              1,
              "#f0f921"
             ]
            ],
            "type": "heatmap"
           }
          ],
          "heatmapgl": [
           {
            "colorbar": {
             "outlinewidth": 0,
             "ticks": ""
            },
            "colorscale": [
             [
              0,
              "#0d0887"
             ],
             [
              0.1111111111111111,
              "#46039f"
             ],
             [
              0.2222222222222222,
              "#7201a8"
             ],
             [
              0.3333333333333333,
              "#9c179e"
             ],
             [
              0.4444444444444444,
              "#bd3786"
             ],
             [
              0.5555555555555556,
              "#d8576b"
             ],
             [
              0.6666666666666666,
              "#ed7953"
             ],
             [
              0.7777777777777778,
              "#fb9f3a"
             ],
             [
              0.8888888888888888,
              "#fdca26"
             ],
             [
              1,
              "#f0f921"
             ]
            ],
            "type": "heatmapgl"
           }
          ],
          "histogram": [
           {
            "marker": {
             "pattern": {
              "fillmode": "overlay",
              "size": 10,
              "solidity": 0.2
             }
            },
            "type": "histogram"
           }
          ],
          "histogram2d": [
           {
            "colorbar": {
             "outlinewidth": 0,
             "ticks": ""
            },
            "colorscale": [
             [
              0,
              "#0d0887"
             ],
             [
              0.1111111111111111,
              "#46039f"
             ],
             [
              0.2222222222222222,
              "#7201a8"
             ],
             [
              0.3333333333333333,
              "#9c179e"
             ],
             [
              0.4444444444444444,
              "#bd3786"
             ],
             [
              0.5555555555555556,
              "#d8576b"
             ],
             [
              0.6666666666666666,
              "#ed7953"
             ],
             [
              0.7777777777777778,
              "#fb9f3a"
             ],
             [
              0.8888888888888888,
              "#fdca26"
             ],
             [
              1,
              "#f0f921"
             ]
            ],
            "type": "histogram2d"
           }
          ],
          "histogram2dcontour": [
           {
            "colorbar": {
             "outlinewidth": 0,
             "ticks": ""
            },
            "colorscale": [
             [
              0,
              "#0d0887"
             ],
             [
              0.1111111111111111,
              "#46039f"
             ],
             [
              0.2222222222222222,
              "#7201a8"
             ],
             [
              0.3333333333333333,
              "#9c179e"
             ],
             [
              0.4444444444444444,
              "#bd3786"
             ],
             [
              0.5555555555555556,
              "#d8576b"
             ],
             [
              0.6666666666666666,
              "#ed7953"
             ],
             [
              0.7777777777777778,
              "#fb9f3a"
             ],
             [
              0.8888888888888888,
              "#fdca26"
             ],
             [
              1,
              "#f0f921"
             ]
            ],
            "type": "histogram2dcontour"
           }
          ],
          "mesh3d": [
           {
            "colorbar": {
             "outlinewidth": 0,
             "ticks": ""
            },
            "type": "mesh3d"
           }
          ],
          "parcoords": [
           {
            "line": {
             "colorbar": {
              "outlinewidth": 0,
              "ticks": ""
             }
            },
            "type": "parcoords"
           }
          ],
          "pie": [
           {
            "automargin": true,
            "type": "pie"
           }
          ],
          "scatter": [
           {
            "fillpattern": {
             "fillmode": "overlay",
             "size": 10,
             "solidity": 0.2
            },
            "type": "scatter"
           }
          ],
          "scatter3d": [
           {
            "line": {
             "colorbar": {
              "outlinewidth": 0,
              "ticks": ""
             }
            },
            "marker": {
             "colorbar": {
              "outlinewidth": 0,
              "ticks": ""
             }
            },
            "type": "scatter3d"
           }
          ],
          "scattercarpet": [
           {
            "marker": {
             "colorbar": {
              "outlinewidth": 0,
              "ticks": ""
             }
            },
            "type": "scattercarpet"
           }
          ],
          "scattergeo": [
           {
            "marker": {
             "colorbar": {
              "outlinewidth": 0,
              "ticks": ""
             }
            },
            "type": "scattergeo"
           }
          ],
          "scattergl": [
           {
            "marker": {
             "colorbar": {
              "outlinewidth": 0,
              "ticks": ""
             }
            },
            "type": "scattergl"
           }
          ],
          "scattermapbox": [
           {
            "marker": {
             "colorbar": {
              "outlinewidth": 0,
              "ticks": ""
             }
            },
            "type": "scattermapbox"
           }
          ],
          "scatterpolar": [
           {
            "marker": {
             "colorbar": {
              "outlinewidth": 0,
              "ticks": ""
             }
            },
            "type": "scatterpolar"
           }
          ],
          "scatterpolargl": [
           {
            "marker": {
             "colorbar": {
              "outlinewidth": 0,
              "ticks": ""
             }
            },
            "type": "scatterpolargl"
           }
          ],
          "scatterternary": [
           {
            "marker": {
             "colorbar": {
              "outlinewidth": 0,
              "ticks": ""
             }
            },
            "type": "scatterternary"
           }
          ],
          "surface": [
           {
            "colorbar": {
             "outlinewidth": 0,
             "ticks": ""
            },
            "colorscale": [
             [
              0,
              "#0d0887"
             ],
             [
              0.1111111111111111,
              "#46039f"
             ],
             [
              0.2222222222222222,
              "#7201a8"
             ],
             [
              0.3333333333333333,
              "#9c179e"
             ],
             [
              0.4444444444444444,
              "#bd3786"
             ],
             [
              0.5555555555555556,
              "#d8576b"
             ],
             [
              0.6666666666666666,
              "#ed7953"
             ],
             [
              0.7777777777777778,
              "#fb9f3a"
             ],
             [
              0.8888888888888888,
              "#fdca26"
             ],
             [
              1,
              "#f0f921"
             ]
            ],
            "type": "surface"
           }
          ],
          "table": [
           {
            "cells": {
             "fill": {
              "color": "#EBF0F8"
             },
             "line": {
              "color": "white"
             }
            },
            "header": {
             "fill": {
              "color": "#C8D4E3"
             },
             "line": {
              "color": "white"
             }
            },
            "type": "table"
           }
          ]
         },
         "layout": {
          "annotationdefaults": {
           "arrowcolor": "#2a3f5f",
           "arrowhead": 0,
           "arrowwidth": 1
          },
          "autotypenumbers": "strict",
          "coloraxis": {
           "colorbar": {
            "outlinewidth": 0,
            "ticks": ""
           }
          },
          "colorscale": {
           "diverging": [
            [
             0,
             "#8e0152"
            ],
            [
             0.1,
             "#c51b7d"
            ],
            [
             0.2,
             "#de77ae"
            ],
            [
             0.3,
             "#f1b6da"
            ],
            [
             0.4,
             "#fde0ef"
            ],
            [
             0.5,
             "#f7f7f7"
            ],
            [
             0.6,
             "#e6f5d0"
            ],
            [
             0.7,
             "#b8e186"
            ],
            [
             0.8,
             "#7fbc41"
            ],
            [
             0.9,
             "#4d9221"
            ],
            [
             1,
             "#276419"
            ]
           ],
           "sequential": [
            [
             0,
             "#0d0887"
            ],
            [
             0.1111111111111111,
             "#46039f"
            ],
            [
             0.2222222222222222,
             "#7201a8"
            ],
            [
             0.3333333333333333,
             "#9c179e"
            ],
            [
             0.4444444444444444,
             "#bd3786"
            ],
            [
             0.5555555555555556,
             "#d8576b"
            ],
            [
             0.6666666666666666,
             "#ed7953"
            ],
            [
             0.7777777777777778,
             "#fb9f3a"
            ],
            [
             0.8888888888888888,
             "#fdca26"
            ],
            [
             1,
             "#f0f921"
            ]
           ],
           "sequentialminus": [
            [
             0,
             "#0d0887"
            ],
            [
             0.1111111111111111,
             "#46039f"
            ],
            [
             0.2222222222222222,
             "#7201a8"
            ],
            [
             0.3333333333333333,
             "#9c179e"
            ],
            [
             0.4444444444444444,
             "#bd3786"
            ],
            [
             0.5555555555555556,
             "#d8576b"
            ],
            [
             0.6666666666666666,
             "#ed7953"
            ],
            [
             0.7777777777777778,
             "#fb9f3a"
            ],
            [
             0.8888888888888888,
             "#fdca26"
            ],
            [
             1,
             "#f0f921"
            ]
           ]
          },
          "colorway": [
           "#636efa",
           "#EF553B",
           "#00cc96",
           "#ab63fa",
           "#FFA15A",
           "#19d3f3",
           "#FF6692",
           "#B6E880",
           "#FF97FF",
           "#FECB52"
          ],
          "font": {
           "color": "#2a3f5f"
          },
          "geo": {
           "bgcolor": "white",
           "lakecolor": "white",
           "landcolor": "#E5ECF6",
           "showlakes": true,
           "showland": true,
           "subunitcolor": "white"
          },
          "hoverlabel": {
           "align": "left"
          },
          "hovermode": "closest",
          "mapbox": {
           "style": "light"
          },
          "paper_bgcolor": "white",
          "plot_bgcolor": "#E5ECF6",
          "polar": {
           "angularaxis": {
            "gridcolor": "white",
            "linecolor": "white",
            "ticks": ""
           },
           "bgcolor": "#E5ECF6",
           "radialaxis": {
            "gridcolor": "white",
            "linecolor": "white",
            "ticks": ""
           }
          },
          "scene": {
           "xaxis": {
            "backgroundcolor": "#E5ECF6",
            "gridcolor": "white",
            "gridwidth": 2,
            "linecolor": "white",
            "showbackground": true,
            "ticks": "",
            "zerolinecolor": "white"
           },
           "yaxis": {
            "backgroundcolor": "#E5ECF6",
            "gridcolor": "white",
            "gridwidth": 2,
            "linecolor": "white",
            "showbackground": true,
            "ticks": "",
            "zerolinecolor": "white"
           },
           "zaxis": {
            "backgroundcolor": "#E5ECF6",
            "gridcolor": "white",
            "gridwidth": 2,
            "linecolor": "white",
            "showbackground": true,
            "ticks": "",
            "zerolinecolor": "white"
           }
          },
          "shapedefaults": {
           "line": {
            "color": "#2a3f5f"
           }
          },
          "ternary": {
           "aaxis": {
            "gridcolor": "white",
            "linecolor": "white",
            "ticks": ""
           },
           "baxis": {
            "gridcolor": "white",
            "linecolor": "white",
            "ticks": ""
           },
           "bgcolor": "#E5ECF6",
           "caxis": {
            "gridcolor": "white",
            "linecolor": "white",
            "ticks": ""
           }
          },
          "title": {
           "x": 0.05
          },
          "xaxis": {
           "automargin": true,
           "gridcolor": "white",
           "linecolor": "white",
           "ticks": "",
           "title": {
            "standoff": 15
           },
           "zerolinecolor": "white",
           "zerolinewidth": 2
          },
          "yaxis": {
           "automargin": true,
           "gridcolor": "white",
           "linecolor": "white",
           "ticks": "",
           "title": {
            "standoff": 15
           },
           "zerolinecolor": "white",
           "zerolinewidth": 2
          }
         }
        },
        "title": {
         "text": "Comparação de Acurácias"
        },
        "width": 1000,
        "xaxis": {
         "title": {
          "text": "Modelo"
         }
        },
        "yaxis": {
         "title": {
          "text": "Acurácia Média"
         }
        }
       }
      }
     },
     "metadata": {},
     "output_type": "display_data"
    }
   ],
   "source": [
    "# Plotar os resultados\n",
    "fig = go.Figure()\n",
    "\n",
    "for name, result in results_acuracy.items():\n",
    "    fig.add_trace(go.Bar(\n",
    "        x=[name],\n",
    "        y=[mean(result)],\n",
    "        error_y=dict(type='data', array=[2.0*stdev(result)/np.sqrt(len(result))]),\n",
    "        name=name\n",
    "    ))\n",
    "\n",
    "fig.update_layout(\n",
    "    title='Comparação de Acurácias',\n",
    "    xaxis_title='Modelo',\n",
    "    yaxis_title='Acurácia Média',\n",
    "    width=1000,\n",
    "    height=600,\n",
    ")\n",
    "\n",
    "fig.show()"
   ]
  },
  {
   "cell_type": "markdown",
   "metadata": {},
   "source": [
    "### Split Train-Test"
   ]
  },
  {
   "cell_type": "code",
   "execution_count": 18,
   "metadata": {},
   "outputs": [],
   "source": [
    "from sklearn.model_selection import train_test_split\n",
    "# Dividindo os dados em treino e teste\n",
    "X_train, X_test, y_train, y_test = train_test_split(X, y, test_size=0.2, random_state=42)"
   ]
  },
  {
   "cell_type": "markdown",
   "metadata": {},
   "source": [
    "### Model Tuning"
   ]
  },
  {
   "cell_type": "code",
   "execution_count": 19,
   "metadata": {},
   "outputs": [],
   "source": [
    "X_train_prepro= preprocessor.fit_transform(X_train)\n",
    "X_test_pro=preprocessor.fit_transform(X_test)\n",
    "## Best Model: Logistic Regression\n",
    "model=LogisticRegression()\n",
    "param_grid = {\n",
    "    'C': [0.001, 0.01, 0.1, 1.0, 10.0],\n",
    "    'solver': ['liblinear', 'newton-cg', 'lbfgs', 'sag', 'saga'],\n",
    "    'max_iter': [100, 200],\n",
    "}"
   ]
  },
  {
   "cell_type": "code",
   "execution_count": 20,
   "metadata": {},
   "outputs": [
    {
     "name": "stdout",
     "output_type": "stream",
     "text": [
      "Best Params:  {'C': 0.01, 'max_iter': 100, 'solver': 'liblinear'}\n"
     ]
    }
   ],
   "source": [
    "best_params = find_best_model_params(X_train_prepro, y_train,param_grid,model)\n",
    "print(\"Best Params: \",best_params)"
   ]
  },
  {
   "cell_type": "markdown",
   "metadata": {},
   "source": [
    "### Model"
   ]
  },
  {
   "cell_type": "code",
   "execution_count": 29,
   "metadata": {},
   "outputs": [],
   "source": [
    "# Treinamento do modelo\n",
    "model = LogisticRegression(C=0.01,solver='newton-cg',max_iter=100)\n",
    "model.fit(X_train_prepro, y_train)\n",
    "# Previsões\n",
    "y_pred = model.predict(X_test_pro)"
   ]
  },
  {
   "cell_type": "markdown",
   "metadata": {},
   "source": [
    "### Evaluate model "
   ]
  },
  {
   "cell_type": "code",
   "execution_count": 30,
   "metadata": {},
   "outputs": [
    {
     "name": "stdout",
     "output_type": "stream",
     "text": [
      "Accuracy Score: 0.7095\n"
     ]
    }
   ],
   "source": [
    "print(\"Accuracy Score:\",accuracy_score(y_test,y_pred))"
   ]
  },
  {
   "cell_type": "code",
   "execution_count": 31,
   "metadata": {},
   "outputs": [
    {
     "name": "stdout",
     "output_type": "stream",
     "text": [
      "              precision    recall  f1-score   support\n",
      "\n",
      "           0       0.76      0.87      0.81      1414\n",
      "           1       0.51      0.32      0.39       586\n",
      "\n",
      "    accuracy                           0.71      2000\n",
      "   macro avg       0.63      0.60      0.60      2000\n",
      "weighted avg       0.68      0.71      0.69      2000\n",
      "\n"
     ]
    }
   ],
   "source": [
    "# Ignorar o aviso\n",
    "warnings.filterwarnings(\"ignore\", category=UndefinedMetricWarning)\n",
    "\n",
    "print(classification_report(y_test,y_pred))"
   ]
  },
  {
   "cell_type": "code",
   "execution_count": 32,
   "metadata": {},
   "outputs": [
    {
     "data": {
      "text/plain": [
       "<Axes: xlabel='Predicted', ylabel='Actual'>"
      ]
     },
     "execution_count": 32,
     "metadata": {},
     "output_type": "execute_result"
    },
    {
     "data": {
      "image/png": "[encoded data removed]",
      "text/plain": [
       "<Figure size 640x480 with 2 Axes>"
      ]
     },
     "metadata": {},
     "output_type": "display_data"
    }
   ],
   "source": [
    "#Matriz de confusão \n",
    "df_cm=pd.DataFrame(confusion_matrix(y_test,y_pred),columns=np.unique(y_test),index=np.unique(y_test))\n",
    "df_cm.index.name = 'Actual'\n",
    "df_cm.columns.name = 'Predicted'\n",
    "sns.heatmap(df_cm, cmap=\"Blues\", annot=True,annot_kws={\"size\": 16})"
   ]
  },
  {
   "cell_type": "code",
   "execution_count": 33,
   "metadata": {},
   "outputs": [
    {
     "name": "stdout",
     "output_type": "stream",
     "text": [
      "Área sob a curva ROC (AUC): 0.6584387717172497\n"
     ]
    }
   ],
   "source": [
    "y_pred_prob = model.predict_proba(X_test_pro)[:, 1]  # Probabilidade teste Positivo do resultado genético\n",
    "auc = roc_auc_score(y_test, y_pred_prob)\n",
    "\n",
    "print(\"Área sob a curva ROC (AUC):\", auc)"
   ]
  },
  {
   "cell_type": "code",
   "execution_count": 34,
   "metadata": {},
   "outputs": [
    {
     "data": {
      "application/vnd.plotly.v1+json": {
       "config": {
        "plotlyServerURL": "https://plot.ly"
       },
       "data": [
        {
         "mode": "lines",
         "name": "ROC curve (AUC = 0.66)",
         "type": "scatter",
         "x": [
          0,
          0,
          0.0007072135785007072,
          0.0007072135785007072,
          0.0014144271570014145,
          0.0014144271570014145,
          0.002828854314002829,
          0.002828854314002829,
          0.003536067892503536,
          0.003536067892503536,
          0.0049504950495049506,
          0.0049504950495049506,
          0.005657708628005658,
          0.005657708628005658,
          0.007779349363507779,
          0.007779349363507779,
          0.009193776520509194,
          0.009193776520509194,
          0.009900990099009901,
          0.009900990099009901,
          0.010608203677510608,
          0.010608203677510608,
          0.011315417256011316,
          0.011315417256011316,
          0.012022630834512023,
          0.012022630834512023,
          0.013437057991513438,
          0.013437057991513438,
          0.014144271570014143,
          0.014144271570014143,
          0.016973125884016973,
          0.016973125884016973,
          0.01768033946251768,
          0.01768033946251768,
          0.019094766619519095,
          0.019094766619519095,
          0.021216407355021217,
          0.021216407355021217,
          0.02263083451202263,
          0.02263083451202263,
          0.024045261669024046,
          0.024045261669024046,
          0.024752475247524754,
          0.024752475247524754,
          0.02545968882602546,
          0.02545968882602546,
          0.027581329561527583,
          0.027581329561527583,
          0.028995756718528994,
          0.028995756718528994,
          0.031117397454031116,
          0.031117397454031116,
          0.03182461103253183,
          0.03182461103253183,
          0.03253182461103253,
          0.03253182461103253,
          0.03323903818953324,
          0.03323903818953324,
          0.033946251768033946,
          0.033946251768033946,
          0.034653465346534656,
          0.034653465346534656,
          0.036775106082036775,
          0.036775106082036775,
          0.039603960396039604,
          0.039603960396039604,
          0.04172560113154172,
          0.04172560113154172,
          0.042432814710042434,
          0.042432814710042434,
          0.04384724186704385,
          0.04384724186704385,
          0.04526166902404526,
          0.04526166902404526,
          0.04667609618104668,
          0.04667609618104668,
          0.04738330975954738,
          0.04738330975954738,
          0.04809052333804809,
          0.04809052333804809,
          0.048797736916548796,
          0.048797736916548796,
          0.04950495049504951,
          0.04950495049504951,
          0.05091937765205092,
          0.05091937765205092,
          0.054455445544554455,
          0.054455445544554455,
          0.057284299858557285,
          0.057284299858557285,
          0.0586987270155587,
          0.0586987270155587,
          0.0594059405940594,
          0.0594059405940594,
          0.06082036775106082,
          0.06082036775106082,
          0.06223479490806223,
          0.06223479490806223,
          0.06364922206506365,
          0.06364922206506365,
          0.06577086280056577,
          0.06577086280056577,
          0.06647807637906648,
          0.06647807637906648,
          0.06718528995756719,
          0.06718528995756719,
          0.06789250353606789,
          0.06789250353606789,
          0.07001414427157002,
          0.07001414427157002,
          0.07072135785007072,
          0.07072135785007072,
          0.07355021216407355,
          0.07355021216407355,
          0.07496463932107496,
          0.07496463932107496,
          0.07637906647807638,
          0.07637906647807638,
          0.07708628005657708,
          0.07708628005657708,
          0.08203677510608204,
          0.08203677510608204,
          0.08486562942008487,
          0.08486562942008487,
          0.08557284299858557,
          0.08557284299858557,
          0.08628005657708628,
          0.08628005657708628,
          0.0876944837340877,
          0.0876944837340877,
          0.09052333804809053,
          0.09052333804809053,
          0.09123055162659123,
          0.09123055162659123,
          0.09193776520509193,
          0.09193776520509193,
          0.09547383309759547,
          0.09547383309759547,
          0.09618104667609619,
          0.09618104667609619,
          0.09688826025459689,
          0.09688826025459689,
          0.0983026874115983,
          0.0983026874115983,
          0.09900990099009901,
          0.09900990099009901,
          0.09971711456859972,
          0.09971711456859972,
          0.10325318246110325,
          0.10325318246110325,
          0.10396039603960396,
          0.10396039603960396,
          0.10466760961810467,
          0.10466760961810467,
          0.10537482319660538,
          0.10537482319660538,
          0.10608203677510608,
          0.10608203677510608,
          0.10678925035360678,
          0.10678925035360678,
          0.1074964639321075,
          0.1074964639321075,
          0.1082036775106082,
          0.1082036775106082,
          0.10961810466760961,
          0.10961810466760961,
          0.11032531824611033,
          0.11032531824611033,
          0.11103253182461104,
          0.11103253182461104,
          0.11173974540311174,
          0.11173974540311174,
          0.11244695898161244,
          0.11244695898161244,
          0.11456859971711457,
          0.11456859971711457,
          0.11598302687411598,
          0.11598302687411598,
          0.1188118811881188,
          0.1188118811881188,
          0.12022630834512023,
          0.12022630834512023,
          0.12305516265912306,
          0.12305516265912306,
          0.128005657708628,
          0.128005657708628,
          0.13437057991513437,
          0.13437057991513437,
          0.1364922206506365,
          0.1364922206506365,
          0.13932107496463933,
          0.13932107496463933,
          0.14002828854314003,
          0.14002828854314003,
          0.14214992927864215,
          0.14214992927864215,
          0.14285714285714285,
          0.14285714285714285,
          0.14356435643564355,
          0.14356435643564355,
          0.144978783592645,
          0.144978783592645,
          0.1463932107496464,
          0.1463932107496464,
          0.1478076379066478,
          0.1478076379066478,
          0.1485148514851485,
          0.1485148514851485,
          0.15275813295615276,
          0.15275813295615276,
          0.15346534653465346,
          0.15346534653465346,
          0.15558698727015557,
          0.15558698727015557,
          0.157001414427157,
          0.157001414427157,
          0.15770862800565771,
          0.15770862800565771,
          0.15841584158415842,
          0.15841584158415842,
          0.15912305516265912,
          0.15912305516265912,
          0.16124469589816123,
          0.16124469589816123,
          0.16195190947666196,
          0.16195190947666196,
          0.16831683168316833,
          0.16831683168316833,
          0.16973125884016974,
          0.16973125884016974,
          0.17043847241867044,
          0.17043847241867044,
          0.17114568599717114,
          0.17114568599717114,
          0.1760961810466761,
          0.1760961810466761,
          0.1768033946251768,
          0.1768033946251768,
          0.1789250353606789,
          0.1789250353606789,
          0.18033946251768035,
          0.18033946251768035,
          0.18104667609618105,
          0.18104667609618105,
          0.18316831683168316,
          0.18316831683168316,
          0.185997171145686,
          0.185997171145686,
          0.18882602545968882,
          0.18882602545968882,
          0.18953323903818953,
          0.18953323903818953,
          0.19024045261669023,
          0.19024045261669023,
          0.19165487977369167,
          0.19165487977369167,
          0.19236209335219237,
          0.19236209335219237,
          0.19519094766619519,
          0.19519094766619519,
          0.19731258840169733,
          0.19731258840169733,
          0.20014144271570014,
          0.20014144271570014,
          0.20155586987270155,
          0.20155586987270155,
          0.2057991513437058,
          0.2057991513437058,
          0.2072135785007072,
          0.2072135785007072,
          0.20862800565770862,
          0.20862800565770862,
          0.21004243281471005,
          0.21004243281471005,
          0.21074964639321075,
          0.21074964639321075,
          0.21145685997171146,
          0.21145685997171146,
          0.2157001414427157,
          0.2157001414427157,
          0.22065063649222066,
          0.22065063649222066,
          0.22135785007072137,
          0.22135785007072137,
          0.22277227722772278,
          0.22277227722772278,
          0.2263083451202263,
          0.2263083451202263,
          0.22913719943422914,
          0.22913719943422914,
          0.23055162659123055,
          0.23055162659123055,
          0.23267326732673269,
          0.23267326732673269,
          0.2347949080622348,
          0.2347949080622348,
          0.2355021216407355,
          0.2355021216407355,
          0.2376237623762376,
          0.2376237623762376,
          0.23974540311173975,
          0.23974540311173975,
          0.24115983026874116,
          0.24115983026874116,
          0.24328147100424327,
          0.24328147100424327,
          0.24681753889674682,
          0.24681753889674682,
          0.24823196605374823,
          0.24823196605374823,
          0.24893917963224893,
          0.24893917963224893,
          0.24964639321074963,
          0.24964639321074963,
          0.25035360678925034,
          0.25035360678925034,
          0.25106082036775107,
          0.25106082036775107,
          0.2524752475247525,
          0.2524752475247525,
          0.2545968882602546,
          0.2545968882602546,
          0.25954738330975957,
          0.25954738330975957,
          0.26591230551626593,
          0.26591230551626593,
          0.27157001414427157,
          0.27157001414427157,
          0.272984441301273,
          0.272984441301273,
          0.2736916548797737,
          0.2736916548797737,
          0.27864214992927866,
          0.27864214992927866,
          0.285007072135785,
          0.285007072135785,
          0.29207920792079206,
          0.29207920792079206,
          0.29632248939179634,
          0.29632248939179634,
          0.3026874115983027,
          0.3026874115983027,
          0.3048090523338048,
          0.3048090523338048,
          0.3055162659123055,
          0.3055162659123055,
          0.30834512022630833,
          0.30834512022630833,
          0.30905233380480907,
          0.30905233380480907,
          0.31117397454031115,
          0.31117397454031115,
          0.3118811881188119,
          0.3118811881188119,
          0.314002828854314,
          0.314002828854314,
          0.3161244695898161,
          0.3161244695898161,
          0.31966053748231965,
          0.31966053748231965,
          0.32107496463932106,
          0.32107496463932106,
          0.33097595473833097,
          0.33097595473833097,
          0.3323903818953324,
          0.3323903818953324,
          0.3330975954738331,
          0.3330975954738331,
          0.33734087694483733,
          0.33734087694483733,
          0.33875530410183874,
          0.33875530410183874,
          0.342998585572843,
          0.342998585572843,
          0.3437057991513437,
          0.3437057991513437,
          0.3451202263083451,
          0.3451202263083451,
          0.34582743988684583,
          0.34582743988684583,
          0.3465346534653465,
          0.3465346534653465,
          0.3521923620933522,
          0.3521923620933522,
          0.35289957567185287,
          0.35289957567185287,
          0.3536067892503536,
          0.3536067892503536,
          0.35714285714285715,
          0.35714285714285715,
          0.35997171145685997,
          0.35997171145685997,
          0.3620933521923621,
          0.3620933521923621,
          0.3649222065063649,
          0.3649222065063649,
          0.36704384724186706,
          0.36704384724186706,
          0.36845827439886847,
          0.3698727015558699,
          0.37482319660537483,
          0.37482319660537483,
          0.3755304101838755,
          0.3755304101838755,
          0.37623762376237624,
          0.37765205091937765,
          0.3826025459688826,
          0.3826025459688826,
          0.38330975954738333,
          0.38330975954738333,
          0.384016973125884,
          0.384016973125884,
          0.3896746817538897,
          0.3896746817538897,
          0.39038189533239037,
          0.3910891089108911,
          0.3910891089108911,
          0.3925035360678925,
          0.3925035360678925,
          0.39603960396039606,
          0.39603960396039606,
          0.39674681753889673,
          0.39674681753889673,
          0.39816124469589814,
          0.39816124469589814,
          0.3988684582743989,
          0.3988684582743989,
          0.4002828854314003,
          0.4002828854314003,
          0.400990099009901,
          0.400990099009901,
          0.4024045261669024,
          0.4024045261669024,
          0.4087694483734088,
          0.4087694483734088,
          0.40947666195190946,
          0.40947666195190946,
          0.41089108910891087,
          0.41089108910891087,
          0.41230551626591233,
          0.41230551626591233,
          0.413012729844413,
          0.413012729844413,
          0.4158415841584158,
          0.4158415841584158,
          0.41725601131541723,
          0.41725601131541723,
          0.41937765205091937,
          0.41937765205091937,
          0.4207920792079208,
          0.4207920792079208,
          0.4229137199434229,
          0.4229137199434229,
          0.42362093352192365,
          0.42503536067892506,
          0.42786421499292787,
          0.42786421499292787,
          0.42998585572843,
          0.42998585572843,
          0.4363507779349364,
          0.4363507779349364,
          0.43705799151343705,
          0.43705799151343705,
          0.43988684582743987,
          0.43988684582743987,
          0.4448373408769448,
          0.4448373408769448,
          0.44837340876944837,
          0.44837340876944837,
          0.4497878359264498,
          0.4497878359264498,
          0.4504950495049505,
          0.4504950495049505,
          0.4533239038189533,
          0.4533239038189533,
          0.458981612446959,
          0.458981612446959,
          0.4667609618104668,
          0.4667609618104668,
          0.46888260254596886,
          0.46888260254596886,
          0.4724186704384724,
          0.4724186704384724,
          0.47454031117397455,
          0.47454031117397455,
          0.47736916548797736,
          0.47736916548797736,
          0.4816124469589816,
          0.4816124469589816,
          0.4823196605374823,
          0.4823196605374823,
          0.48302687411598305,
          0.48302687411598305,
          0.48514851485148514,
          0.48585572842998587,
          0.4893917963224894,
          0.4893917963224894,
          0.4908062234794908,
          0.4908062234794908,
          0.49363507779349364,
          0.49363507779349364,
          0.49504950495049505,
          0.49504950495049505,
          0.4957567185289958,
          0.4957567185289958,
          0.4971711456859972,
          0.4971711456859972,
          0.49929278642149927,
          0.49929278642149927,
          0.5,
          0.5,
          0.5035360678925035,
          0.5035360678925035,
          0.5042432814710043,
          0.5063649222065064,
          0.5077793493635078,
          0.5077793493635078,
          0.5084865629420084,
          0.512022630834512,
          0.512022630834512,
          0.5127298444130127,
          0.5134370579915134,
          0.5134370579915134,
          0.5148514851485149,
          0.5162659123055162,
          0.5162659123055162,
          0.5176803394625177,
          0.5176803394625177,
          0.5198019801980198,
          0.5198019801980198,
          0.5226308345120226,
          0.5226308345120226,
          0.5233380480905233,
          0.5233380480905233,
          0.5247524752475248,
          0.5247524752475248,
          0.5268741159830269,
          0.5268741159830269,
          0.5289957567185289,
          0.5289957567185289,
          0.5304101838755304,
          0.5304101838755304,
          0.5332390381895332,
          0.5346534653465347,
          0.5367751060820368,
          0.5381895332390382,
          0.5445544554455446,
          0.5445544554455446,
          0.545968882602546,
          0.545968882602546,
          0.5487977369165488,
          0.5487977369165488,
          0.5502121640735502,
          0.5509193776520509,
          0.5509193776520509,
          0.553041018387553,
          0.553041018387553,
          0.5537482319660537,
          0.5537482319660537,
          0.5558698727015559,
          0.5558698727015559,
          0.5586987270155587,
          0.5586987270155587,
          0.5608203677510608,
          0.5622347949080623,
          0.5622347949080623,
          0.5636492220650636,
          0.5650636492220651,
          0.5650636492220651,
          0.5678925035360679,
          0.5678925035360679,
          0.5707213578500707,
          0.5707213578500707,
          0.5721357850070722,
          0.5728429985855729,
          0.5728429985855729,
          0.5735502121640735,
          0.5735502121640735,
          0.5742574257425742,
          0.574964639321075,
          0.5806223479490806,
          0.5813295615275813,
          0.5898161244695899,
          0.5898161244695899,
          0.5919377652050919,
          0.5919377652050919,
          0.5926449787835927,
          0.5926449787835927,
          0.5933521923620934,
          0.5933521923620934,
          0.5975954738330976,
          0.5983026874115983,
          0.599009900990099,
          0.6018387553041018,
          0.6018387553041018,
          0.6060820367751061,
          0.6103253182461104,
          0.6117397454031117,
          0.6131541725601132,
          0.6145685997171145,
          0.6166902404526167,
          0.6195190947666195,
          0.6195190947666195,
          0.6216407355021216,
          0.6237623762376238,
          0.6244695898161244,
          0.6258840169731259,
          0.6258840169731259,
          0.6265912305516266,
          0.6265912305516266,
          0.6308345120226309,
          0.6322489391796322,
          0.632956152758133,
          0.6336633663366337,
          0.637906647807638,
          0.637906647807638,
          0.6393210749646393,
          0.6393210749646393,
          0.64002828854314,
          0.64002828854314,
          0.6435643564356436,
          0.6435643564356436,
          0.6449787835926449,
          0.6463932107496464,
          0.6478076379066479,
          0.6478076379066479,
          0.6485148514851485,
          0.6485148514851485,
          0.6513437057991514,
          0.6534653465346535,
          0.6534653465346535,
          0.6541725601131542,
          0.6555869872701556,
          0.657001414427157,
          0.657001414427157,
          0.6591230551626591,
          0.6626591230551626,
          0.6654879773691655,
          0.6654879773691655,
          0.6669024045261669,
          0.6683168316831684,
          0.6697312588401697,
          0.6711456859971712,
          0.6711456859971712,
          0.6725601131541725,
          0.673974540311174,
          0.673974540311174,
          0.6753889674681753,
          0.6753889674681753,
          0.6782178217821783,
          0.6782178217821783,
          0.6796322489391796,
          0.6803394625176803,
          0.6803394625176803,
          0.6810466760961811,
          0.6810466760961811,
          0.6824611032531824,
          0.6831683168316832,
          0.6838755304101839,
          0.6845827439886846,
          0.6867043847241867,
          0.6902404526166902,
          0.6902404526166902,
          0.690947666195191,
          0.690947666195191,
          0.6923620933521923,
          0.6937765205091938,
          0.6951909476661952,
          0.6966053748231966,
          0.6966053748231966,
          0.698019801980198,
          0.6994342291371994,
          0.7022630834512023,
          0.7029702970297029,
          0.7036775106082037,
          0.7072135785007072,
          0.7072135785007072,
          0.7079207920792079,
          0.7079207920792079,
          0.7086280056577087,
          0.71004243281471,
          0.7107496463932107,
          0.7142857142857143,
          0.7142857142857143,
          0.7164073550212164,
          0.7192362093352193,
          0.7192362093352193,
          0.7213578500707214,
          0.7213578500707214,
          0.7248939179632249,
          0.7263083451202264,
          0.7305516265912305,
          0.7333804809052333,
          0.7347949080622348,
          0.7355021216407355,
          0.7376237623762376,
          0.7397454031117398,
          0.7411598302687411,
          0.7418670438472419,
          0.7461103253182461,
          0.7468175388967468,
          0.7503536067892503,
          0.751060820367751,
          0.7524752475247525,
          0.7531824611032532,
          0.7567185289957568,
          0.7595473833097596,
          0.7609618104667609,
          0.7630834512022631,
          0.7637906647807637,
          0.7659123055162659,
          0.7673267326732673,
          0.7687411598302687,
          0.7722772277227723,
          0.7722772277227723,
          0.7722772277227723,
          0.7736916548797736,
          0.7772277227722773,
          0.7779349363507779,
          0.7800565770862801,
          0.7821782178217822,
          0.7835926449787836,
          0.7864214992927864,
          0.7871287128712872,
          0.7920792079207921,
          0.7949080622347949,
          0.7956152758132956,
          0.7984441301272984,
          0.8005657708628006,
          0.8033946251768034,
          0.806930693069307,
          0.8083451202263083,
          0.8104667609618105,
          0.8104667609618105,
          0.8111739745403111,
          0.8125884016973126,
          0.814002828854314,
          0.8168316831683168,
          0.8175388967468176,
          0.8203677510608204,
          0.8217821782178217,
          0.826025459688826,
          0.8281471004243282,
          0.830975954738331,
          0.8380480905233381,
          0.8422913719943423,
          0.8507779349363508,
          0.8507779349363508,
          0.8507779349363508,
          0.8543140028288543,
          0.8543140028288543,
          0.8571428571428571,
          0.8592644978783592,
          0.8613861386138614,
          0.8656294200848657,
          0.8663366336633663,
          0.8705799151343706,
          0.8769448373408769,
          0.8818953323903819,
          0.8847241867043847,
          0.8868458274398868,
          0.8875530410183875,
          0.8917963224893918,
          0.8946251768033946,
          0.8953323903818954,
          0.8974540311173974,
          0.8988684582743989,
          0.8995756718528995,
          0.900990099009901,
          0.9024045261669024,
          0.9024045261669024,
          0.9066478076379066,
          0.9108910891089109,
          0.9943422913719944,
          1
         ],
         "y": [
          0,
          0.0017064846416382253,
          0.0017064846416382253,
          0.005119453924914676,
          0.005119453924914676,
          0.010238907849829351,
          0.010238907849829351,
          0.011945392491467578,
          0.011945392491467578,
          0.020477815699658702,
          0.020477815699658702,
          0.027303754266211604,
          0.027303754266211604,
          0.03583617747440273,
          0.03583617747440273,
          0.03754266211604096,
          0.03754266211604096,
          0.04436860068259386,
          0.04436860068259386,
          0.04778156996587031,
          0.04778156996587031,
          0.04948805460750853,
          0.04948805460750853,
          0.052901023890784986,
          0.052901023890784986,
          0.05460750853242321,
          0.05460750853242321,
          0.05631399317406143,
          0.05631399317406143,
          0.05802047781569966,
          0.05802047781569966,
          0.059726962457337884,
          0.059726962457337884,
          0.06825938566552901,
          0.06825938566552901,
          0.07679180887372014,
          0.07679180887372014,
          0.08191126279863481,
          0.08191126279863481,
          0.08703071672354949,
          0.08703071672354949,
          0.08873720136518772,
          0.08873720136518772,
          0.09385665529010238,
          0.09385665529010238,
          0.09556313993174062,
          0.09556313993174062,
          0.10068259385665529,
          0.10068259385665529,
          0.10921501706484642,
          0.10921501706484642,
          0.11092150170648464,
          0.11092150170648464,
          0.11433447098976109,
          0.11433447098976109,
          0.11604095563139932,
          0.11604095563139932,
          0.11945392491467577,
          0.11945392491467577,
          0.12286689419795221,
          0.12286689419795221,
          0.12627986348122866,
          0.12627986348122866,
          0.12798634812286688,
          0.12798634812286688,
          0.1296928327645051,
          0.1296928327645051,
          0.1416382252559727,
          0.1416382252559727,
          0.14505119453924914,
          0.14505119453924914,
          0.14675767918088736,
          0.14675767918088736,
          0.15187713310580206,
          0.15187713310580206,
          0.1552901023890785,
          0.1552901023890785,
          0.15699658703071673,
          0.15699658703071673,
          0.16040955631399317,
          0.16040955631399317,
          0.1621160409556314,
          0.1621160409556314,
          0.16552901023890784,
          0.16552901023890784,
          0.1689419795221843,
          0.1689419795221843,
          0.17235494880546076,
          0.17235494880546076,
          0.1757679180887372,
          0.1757679180887372,
          0.17747440273037543,
          0.17747440273037543,
          0.1825938566552901,
          0.1825938566552901,
          0.189419795221843,
          0.189419795221843,
          0.19112627986348124,
          0.19112627986348124,
          0.1945392491467577,
          0.1945392491467577,
          0.1962457337883959,
          0.1962457337883959,
          0.20136518771331058,
          0.20136518771331058,
          0.20819112627986347,
          0.20819112627986347,
          0.2098976109215017,
          0.2098976109215017,
          0.21160409556313994,
          0.21160409556313994,
          0.21331058020477817,
          0.21331058020477817,
          0.2150170648464164,
          0.2150170648464164,
          0.22013651877133106,
          0.22013651877133106,
          0.22696245733788395,
          0.22696245733788395,
          0.23037542662116042,
          0.23037542662116042,
          0.23208191126279865,
          0.23208191126279865,
          0.23378839590443687,
          0.23378839590443687,
          0.2354948805460751,
          0.2354948805460751,
          0.23720136518771331,
          0.23720136518771331,
          0.23890784982935154,
          0.23890784982935154,
          0.24573378839590443,
          0.24573378839590443,
          0.24914675767918087,
          0.24914675767918087,
          0.2508532423208191,
          0.2508532423208191,
          0.25426621160409557,
          0.25426621160409557,
          0.25597269624573377,
          0.25597269624573377,
          0.257679180887372,
          0.257679180887372,
          0.26109215017064846,
          0.26109215017064846,
          0.2627986348122867,
          0.2627986348122867,
          0.2645051194539249,
          0.2645051194539249,
          0.26791808873720135,
          0.26791808873720135,
          0.2696245733788396,
          0.2696245733788396,
          0.2713310580204778,
          0.2713310580204778,
          0.27303754266211605,
          0.27303754266211605,
          0.2764505119453925,
          0.2764505119453925,
          0.27986348122866894,
          0.27986348122866894,
          0.2832764505119454,
          0.2832764505119454,
          0.28498293515358364,
          0.28498293515358364,
          0.28668941979522183,
          0.28668941979522183,
          0.2935153583617747,
          0.2935153583617747,
          0.2986348122866894,
          0.2986348122866894,
          0.3054607508532423,
          0.3054607508532423,
          0.30716723549488056,
          0.30716723549488056,
          0.30887372013651876,
          0.30887372013651876,
          0.310580204778157,
          0.310580204778157,
          0.3122866894197952,
          0.3122866894197952,
          0.31399317406143346,
          0.31399317406143346,
          0.31569965870307165,
          0.31569965870307165,
          0.3191126279863481,
          0.3191126279863481,
          0.3225255972696246,
          0.3225255972696246,
          0.32593856655290104,
          0.32593856655290104,
          0.32764505119453924,
          0.32764505119453924,
          0.3293515358361775,
          0.3293515358361775,
          0.3310580204778157,
          0.3310580204778157,
          0.33276450511945393,
          0.33276450511945393,
          0.3395904436860068,
          0.3395904436860068,
          0.3412969283276451,
          0.3412969283276451,
          0.3430034129692833,
          0.3430034129692833,
          0.3447098976109215,
          0.3447098976109215,
          0.34812286689419797,
          0.34812286689419797,
          0.34982935153583616,
          0.34982935153583616,
          0.35494880546075086,
          0.35494880546075086,
          0.3583617747440273,
          0.3583617747440273,
          0.36006825938566556,
          0.36006825938566556,
          0.36177474402730375,
          0.36177474402730375,
          0.363481228668942,
          0.363481228668942,
          0.3651877133105802,
          0.3651877133105802,
          0.36860068259385664,
          0.36860068259385664,
          0.37372013651877134,
          0.37372013651877134,
          0.37542662116040953,
          0.37542662116040953,
          0.3771331058020478,
          0.3771331058020478,
          0.378839590443686,
          0.378839590443686,
          0.38054607508532423,
          0.38054607508532423,
          0.3822525597269625,
          0.3822525597269625,
          0.3856655290102389,
          0.3856655290102389,
          0.3873720136518771,
          0.3873720136518771,
          0.3890784982935154,
          0.3890784982935154,
          0.39078498293515357,
          0.39078498293515357,
          0.3924914675767918,
          0.3924914675767918,
          0.39419795221843,
          0.39419795221843,
          0.39590443686006827,
          0.39590443686006827,
          0.3993174061433447,
          0.3993174061433447,
          0.40102389078498296,
          0.40102389078498296,
          0.40273037542662116,
          0.40273037542662116,
          0.4044368600682594,
          0.4044368600682594,
          0.40784982935153585,
          0.40784982935153585,
          0.40955631399317405,
          0.40955631399317405,
          0.4180887372013652,
          0.4180887372013652,
          0.4197952218430034,
          0.4197952218430034,
          0.42150170648464164,
          0.42150170648464164,
          0.4232081911262799,
          0.4232081911262799,
          0.4249146757679181,
          0.4249146757679181,
          0.42662116040955633,
          0.42662116040955633,
          0.4300341296928328,
          0.4300341296928328,
          0.4334470989761092,
          0.4334470989761092,
          0.4351535836177474,
          0.4351535836177474,
          0.43686006825938567,
          0.43686006825938567,
          0.43856655290102387,
          0.43856655290102387,
          0.44197952218430037,
          0.44197952218430037,
          0.44368600682593856,
          0.44368600682593856,
          0.4453924914675768,
          0.4453924914675768,
          0.44880546075085326,
          0.44880546075085326,
          0.45051194539249145,
          0.45051194539249145,
          0.4522184300341297,
          0.4522184300341297,
          0.4539249146757679,
          0.4539249146757679,
          0.45733788395904434,
          0.45733788395904434,
          0.4641638225255973,
          0.4641638225255973,
          0.46928327645051193,
          0.46928327645051193,
          0.4709897610921502,
          0.4709897610921502,
          0.4726962457337884,
          0.4726962457337884,
          0.47440273037542663,
          0.47440273037542663,
          0.4761092150170648,
          0.4761092150170648,
          0.4778156996587031,
          0.4778156996587031,
          0.47952218430034127,
          0.47952218430034127,
          0.48293515358361777,
          0.48293515358361777,
          0.48464163822525597,
          0.48464163822525597,
          0.4880546075085324,
          0.4880546075085324,
          0.49146757679180886,
          0.49146757679180886,
          0.4931740614334471,
          0.4931740614334471,
          0.5,
          0.5,
          0.5017064846416383,
          0.5017064846416383,
          0.5034129692832765,
          0.5034129692832765,
          0.5051194539249146,
          0.5051194539249146,
          0.5068259385665529,
          0.5068259385665529,
          0.5085324232081911,
          0.5085324232081911,
          0.5119453924914675,
          0.5119453924914675,
          0.5136518771331058,
          0.5136518771331058,
          0.515358361774744,
          0.515358361774744,
          0.5204778156996587,
          0.5204778156996587,
          0.5238907849829352,
          0.5238907849829352,
          0.5255972696245734,
          0.5255972696245734,
          0.5273037542662116,
          0.5273037542662116,
          0.5290102389078498,
          0.5290102389078498,
          0.5307167235494881,
          0.5307167235494881,
          0.5324232081911263,
          0.5324232081911263,
          0.5358361774744027,
          0.5358361774744027,
          0.537542662116041,
          0.537542662116041,
          0.5392491467576792,
          0.5392491467576792,
          0.5409556313993175,
          0.5409556313993175,
          0.5426621160409556,
          0.5426621160409556,
          0.5443686006825939,
          0.5443686006825939,
          0.5460750853242321,
          0.5460750853242321,
          0.5477815699658704,
          0.5477815699658704,
          0.5494880546075085,
          0.5494880546075085,
          0.552901023890785,
          0.552901023890785,
          0.5546075085324232,
          0.5546075085324232,
          0.5563139931740614,
          0.5563139931740614,
          0.5580204778156996,
          0.5580204778156996,
          0.5597269624573379,
          0.5597269624573379,
          0.5631399317406144,
          0.5631399317406144,
          0.5648464163822525,
          0.5648464163822525,
          0.5699658703071673,
          0.5699658703071673,
          0.5716723549488054,
          0.5716723549488054,
          0.5733788395904437,
          0.5733788395904437,
          0.5750853242320819,
          0.5750853242320819,
          0.5750853242320819,
          0.5750853242320819,
          0.5767918088737202,
          0.5767918088737202,
          0.5784982935153583,
          0.5784982935153583,
          0.5784982935153583,
          0.5784982935153583,
          0.5802047781569966,
          0.5802047781569966,
          0.5819112627986348,
          0.5819112627986348,
          0.5853242320819113,
          0.5853242320819113,
          0.5887372013651877,
          0.5887372013651877,
          0.590443686006826,
          0.5938566552901023,
          0.5938566552901023,
          0.5972696245733788,
          0.5972696245733788,
          0.6006825938566553,
          0.6006825938566553,
          0.6040955631399317,
          0.6040955631399317,
          0.60580204778157,
          0.60580204778157,
          0.6075085324232082,
          0.6075085324232082,
          0.6092150170648464,
          0.6092150170648464,
          0.6109215017064846,
          0.6109215017064846,
          0.6143344709897611,
          0.6143344709897611,
          0.6160409556313993,
          0.6160409556313993,
          0.6177474402730375,
          0.6177474402730375,
          0.6194539249146758,
          0.6194539249146758,
          0.621160409556314,
          0.621160409556314,
          0.6228668941979523,
          0.6228668941979523,
          0.6296928327645052,
          0.6296928327645052,
          0.6313993174061433,
          0.6313993174061433,
          0.6331058020477816,
          0.6331058020477816,
          0.636518771331058,
          0.636518771331058,
          0.6382252559726962,
          0.6382252559726962,
          0.6382252559726962,
          0.6382252559726962,
          0.6399317406143344,
          0.6399317406143344,
          0.6416382252559727,
          0.6416382252559727,
          0.643344709897611,
          0.643344709897611,
          0.6450511945392492,
          0.6450511945392492,
          0.6467576791808873,
          0.6467576791808873,
          0.6518771331058021,
          0.6518771331058021,
          0.6535836177474402,
          0.6535836177474402,
          0.6552901023890785,
          0.6552901023890785,
          0.6569965870307167,
          0.6569965870307167,
          0.658703071672355,
          0.658703071672355,
          0.6621160409556314,
          0.6621160409556314,
          0.6638225255972696,
          0.6638225255972696,
          0.6655290102389079,
          0.6655290102389079,
          0.6672354948805461,
          0.6672354948805461,
          0.674061433447099,
          0.674061433447099,
          0.6757679180887372,
          0.6757679180887372,
          0.6791808873720137,
          0.6791808873720137,
          0.6808873720136519,
          0.6808873720136519,
          0.6825938566552902,
          0.6825938566552902,
          0.6843003412969283,
          0.6843003412969283,
          0.6860068259385665,
          0.6860068259385665,
          0.6877133105802048,
          0.6877133105802048,
          0.6928327645051194,
          0.6928327645051194,
          0.6945392491467577,
          0.6945392491467577,
          0.6979522184300341,
          0.6979522184300341,
          0.6996587030716723,
          0.6996587030716723,
          0.7013651877133106,
          0.7013651877133106,
          0.7030716723549488,
          0.7030716723549488,
          0.7064846416382252,
          0.7064846416382252,
          0.7081911262798635,
          0.7081911262798635,
          0.7098976109215017,
          0.7098976109215017,
          0.7098976109215017,
          0.71160409556314,
          0.71160409556314,
          0.7167235494880546,
          0.7184300341296929,
          0.7184300341296929,
          0.7184300341296929,
          0.7201365187713311,
          0.7201365187713311,
          0.7218430034129693,
          0.7218430034129693,
          0.7235494880546075,
          0.7235494880546075,
          0.7252559726962458,
          0.7252559726962458,
          0.726962457337884,
          0.726962457337884,
          0.7286689419795221,
          0.7286689419795221,
          0.7320819112627986,
          0.7320819112627986,
          0.7337883959044369,
          0.7337883959044369,
          0.735494880546075,
          0.735494880546075,
          0.735494880546075,
          0.735494880546075,
          0.735494880546075,
          0.735494880546075,
          0.7406143344709898,
          0.7406143344709898,
          0.742320819112628,
          0.742320819112628,
          0.7457337883959044,
          0.7457337883959044,
          0.7457337883959044,
          0.7491467576791809,
          0.7491467576791809,
          0.7508532423208191,
          0.7508532423208191,
          0.7559726962457338,
          0.7559726962457338,
          0.7593856655290102,
          0.7593856655290102,
          0.7610921501706485,
          0.7610921501706485,
          0.7627986348122867,
          0.764505119453925,
          0.764505119453925,
          0.764505119453925,
          0.7662116040955631,
          0.7662116040955631,
          0.7696245733788396,
          0.7696245733788396,
          0.7713310580204779,
          0.7713310580204779,
          0.7713310580204779,
          0.773037542662116,
          0.773037542662116,
          0.7747440273037542,
          0.7747440273037542,
          0.7781569965870307,
          0.7781569965870307,
          0.7798634812286689,
          0.7798634812286689,
          0.7815699658703071,
          0.7815699658703071,
          0.7832764505119454,
          0.7832764505119454,
          0.78839590443686,
          0.78839590443686,
          0.7901023890784983,
          0.7901023890784983,
          0.7935153583617748,
          0.7952218430034129,
          0.7952218430034129,
          0.7969283276450512,
          0.7969283276450512,
          0.7969283276450512,
          0.7969283276450512,
          0.7969283276450512,
          0.7969283276450512,
          0.7986348122866894,
          0.7986348122866894,
          0.8020477815699659,
          0.8020477815699659,
          0.8037542662116041,
          0.8037542662116041,
          0.8037542662116041,
          0.8054607508532423,
          0.8054607508532423,
          0.8071672354948806,
          0.8071672354948806,
          0.8071672354948806,
          0.8071672354948806,
          0.8088737201365188,
          0.8088737201365188,
          0.810580204778157,
          0.810580204778157,
          0.8122866894197952,
          0.8122866894197952,
          0.8139931740614335,
          0.8156996587030717,
          0.8174061433447098,
          0.8174061433447098,
          0.8208191126279863,
          0.8208191126279863,
          0.8225255972696246,
          0.8225255972696246,
          0.825938566552901,
          0.825938566552901,
          0.8276450511945392,
          0.8293515358361775,
          0.8293515358361775,
          0.8327645051194539,
          0.8327645051194539,
          0.8344709897610921,
          0.8344709897610921,
          0.8344709897610921,
          0.8344709897610921,
          0.8378839590443686,
          0.8378839590443686,
          0.841296928327645,
          0.841296928327645,
          0.841296928327645,
          0.8430034129692833,
          0.8447098976109215,
          0.8447098976109215,
          0.8481228668941979,
          0.8498293515358362,
          0.8515358361774744,
          0.8515358361774744,
          0.8532423208191127,
          0.8532423208191127,
          0.8532423208191127,
          0.8549488054607508,
          0.8549488054607508,
          0.856655290102389,
          0.856655290102389,
          0.856655290102389,
          0.8583617747440273,
          0.8583617747440273,
          0.8583617747440273,
          0.8583617747440273,
          0.8617747440273038,
          0.8617747440273038,
          0.8651877133105802,
          0.8651877133105802,
          0.8651877133105802,
          0.8651877133105802,
          0.8651877133105802,
          0.8668941979522184,
          0.8668941979522184,
          0.8686006825938567,
          0.8720136518771331,
          0.8720136518771331,
          0.8737201365187713,
          0.8737201365187713,
          0.8754266211604096,
          0.8754266211604096,
          0.8771331058020477,
          0.8771331058020477,
          0.8771331058020477,
          0.8771331058020477,
          0.8771331058020477,
          0.8805460750853242,
          0.8822525597269625,
          0.8822525597269625,
          0.8856655290102389,
          0.8856655290102389,
          0.8873720136518771,
          0.8890784982935154,
          0.8924914675767918,
          0.8924914675767918,
          0.8924914675767918,
          0.8924914675767918,
          0.8924914675767918,
          0.8924914675767918,
          0.8924914675767918,
          0.8924914675767918,
          0.8924914675767918,
          0.8924914675767918,
          0.8924914675767918,
          0.89419795221843,
          0.89419795221843,
          0.8959044368600683,
          0.8959044368600683,
          0.8959044368600683,
          0.8959044368600683,
          0.8993174061433447,
          0.8993174061433447,
          0.9010238907849829,
          0.9010238907849829,
          0.9010238907849829,
          0.9010238907849829,
          0.9010238907849829,
          0.9027303754266212,
          0.9061433447098977,
          0.9061433447098977,
          0.9061433447098977,
          0.9061433447098977,
          0.909556313993174,
          0.909556313993174,
          0.909556313993174,
          0.909556313993174,
          0.909556313993174,
          0.9112627986348123,
          0.9129692832764505,
          0.9129692832764505,
          0.9163822525597269,
          0.9232081911262798,
          0.9232081911262798,
          0.9232081911262798,
          0.9232081911262798,
          0.9266211604095563,
          0.9283276450511946,
          0.9283276450511946,
          0.9300341296928327,
          0.9300341296928327,
          0.931740614334471,
          0.9334470989761092,
          0.9334470989761092,
          0.9334470989761092,
          0.9368600682593856,
          0.9368600682593856,
          0.9368600682593856,
          0.9436860068259386,
          0.9436860068259386,
          0.9436860068259386,
          0.9453924914675768,
          0.9488054607508533,
          0.9505119453924915,
          0.9522184300341296,
          0.9556313993174061,
          0.9556313993174061,
          0.9607508532423208,
          0.9607508532423208,
          0.9607508532423208,
          0.962457337883959,
          0.962457337883959,
          0.9641638225255973,
          0.9658703071672355,
          0.9658703071672355,
          0.9658703071672355,
          0.9692832764505119,
          0.9692832764505119,
          0.9692832764505119,
          0.9692832764505119,
          0.9692832764505119,
          0.9692832764505119,
          0.9692832764505119,
          0.9709897610921502,
          0.9726962457337884,
          0.9726962457337884,
          0.9726962457337884,
          0.9965870307167235,
          1
         ]
        },
        {
         "line": {
          "dash": "dash"
         },
         "mode": "lines",
         "name": "Random Guessing",
         "type": "scatter",
         "x": [
          0,
          1
         ],
         "y": [
          0,
          1
         ]
        }
       ],
       "layout": {
        "legend": {
         "x": 0.7,
         "y": 0.2
        },
        "template": {
         "data": {
          "bar": [
           {
            "error_x": {
             "color": "#2a3f5f"
            },
            "error_y": {
             "color": "#2a3f5f"
            },
            "marker": {
             "line": {
              "color": "#E5ECF6",
              "width": 0.5
             },
             "pattern": {
              "fillmode": "overlay",
              "size": 10,
              "solidity": 0.2
             }
            },
            "type": "bar"
           }
          ],
          "barpolar": [
           {
            "marker": {
             "line": {
              "color": "#E5ECF6",
              "width": 0.5
             },
             "pattern": {
              "fillmode": "overlay",
              "size": 10,
              "solidity": 0.2
             }
            },
            "type": "barpolar"
           }
          ],
          "carpet": [
           {
            "aaxis": {
             "endlinecolor": "#2a3f5f",
             "gridcolor": "white",
             "linecolor": "white",
             "minorgridcolor": "white",
             "startlinecolor": "#2a3f5f"
            },
            "baxis": {
             "endlinecolor": "#2a3f5f",
             "gridcolor": "white",
             "linecolor": "white",
             "minorgridcolor": "white",
             "startlinecolor": "#2a3f5f"
            },
            "type": "carpet"
           }
          ],
          "choropleth": [
           {
            "colorbar": {
             "outlinewidth": 0,
             "ticks": ""
            },
            "type": "choropleth"
           }
          ],
          "contour": [
           {
            "colorbar": {
             "outlinewidth": 0,
             "ticks": ""
            },
            "colorscale": [
             [
              0,
              "#0d0887"
             ],
             [
              0.1111111111111111,
              "#46039f"
             ],
             [
              0.2222222222222222,
              "#7201a8"
             ],
             [
              0.3333333333333333,
              "#9c179e"
             ],
             [
              0.4444444444444444,
              "#bd3786"
             ],
             [
              0.5555555555555556,
              "#d8576b"
             ],
             [
              0.6666666666666666,
              "#ed7953"
             ],
             [
              0.7777777777777778,
              "#fb9f3a"
             ],
             [
              0.8888888888888888,
              "#fdca26"
             ],
             [
              1,
              "#f0f921"
             ]
            ],
            "type": "contour"
           }
          ],
          "contourcarpet": [
           {
            "colorbar": {
             "outlinewidth": 0,
             "ticks": ""
            },
            "type": "contourcarpet"
           }
          ],
          "heatmap": [
           {
            "colorbar": {
             "outlinewidth": 0,
             "ticks": ""
            },
            "colorscale": [
             [
              0,
              "#0d0887"
             ],
             [
              0.1111111111111111,
              "#46039f"
             ],
             [
              0.2222222222222222,
              "#7201a8"
             ],
             [
              0.3333333333333333,
              "#9c179e"
             ],
             [
              0.4444444444444444,
              "#bd3786"
             ],
             [
              0.5555555555555556,
              "#d8576b"
             ],
             [
              0.6666666666666666,
              "#ed7953"
             ],
             [
              0.7777777777777778,
              "#fb9f3a"
             ],
             [
              0.8888888888888888,
              "#fdca26"
             ],
             [
              1,
              "#f0f921"
             ]
            ],
            "type": "heatmap"
           }
          ],
          "heatmapgl": [
           {
            "colorbar": {
             "outlinewidth": 0,
             "ticks": ""
            },
            "colorscale": [
             [
              0,
              "#0d0887"
             ],
             [
              0.1111111111111111,
              "#46039f"
             ],
             [
              0.2222222222222222,
              "#7201a8"
             ],
             [
              0.3333333333333333,
              "#9c179e"
             ],
             [
              0.4444444444444444,
              "#bd3786"
             ],
             [
              0.5555555555555556,
              "#d8576b"
             ],
             [
              0.6666666666666666,
              "#ed7953"
             ],
             [
              0.7777777777777778,
              "#fb9f3a"
             ],
             [
              0.8888888888888888,
              "#fdca26"
             ],
             [
              1,
              "#f0f921"
             ]
            ],
            "type": "heatmapgl"
           }
          ],
          "histogram": [
           {
            "marker": {
             "pattern": {
              "fillmode": "overlay",
              "size": 10,
              "solidity": 0.2
             }
            },
            "type": "histogram"
           }
          ],
          "histogram2d": [
           {
            "colorbar": {
             "outlinewidth": 0,
             "ticks": ""
            },
            "colorscale": [
             [
              0,
              "#0d0887"
             ],
             [
              0.1111111111111111,
              "#46039f"
             ],
             [
              0.2222222222222222,
              "#7201a8"
             ],
             [
              0.3333333333333333,
              "#9c179e"
             ],
             [
              0.4444444444444444,
              "#bd3786"
             ],
             [
              0.5555555555555556,
              "#d8576b"
             ],
             [
              0.6666666666666666,
              "#ed7953"
             ],
             [
              0.7777777777777778,
              "#fb9f3a"
             ],
             [
              0.8888888888888888,
              "#fdca26"
             ],
             [
              1,
              "#f0f921"
             ]
            ],
            "type": "histogram2d"
           }
          ],
          "histogram2dcontour": [
           {
            "colorbar": {
             "outlinewidth": 0,
             "ticks": ""
            },
            "colorscale": [
             [
              0,
              "#0d0887"
             ],
             [
              0.1111111111111111,
              "#46039f"
             ],
             [
              0.2222222222222222,
              "#7201a8"
             ],
             [
              0.3333333333333333,
              "#9c179e"
             ],
             [
              0.4444444444444444,
              "#bd3786"
             ],
             [
              0.5555555555555556,
              "#d8576b"
             ],
             [
              0.6666666666666666,
              "#ed7953"
             ],
             [
              0.7777777777777778,
              "#fb9f3a"
             ],
             [
              0.8888888888888888,
              "#fdca26"
             ],
             [
              1,
              "#f0f921"
             ]
            ],
            "type": "histogram2dcontour"
           }
          ],
          "mesh3d": [
           {
            "colorbar": {
             "outlinewidth": 0,
             "ticks": ""
            },
            "type": "mesh3d"
           }
          ],
          "parcoords": [
           {
            "line": {
             "colorbar": {
              "outlinewidth": 0,
              "ticks": ""
             }
            },
            "type": "parcoords"
           }
          ],
          "pie": [
           {
            "automargin": true,
            "type": "pie"
           }
          ],
          "scatter": [
           {
            "fillpattern": {
             "fillmode": "overlay",
             "size": 10,
             "solidity": 0.2
            },
            "type": "scatter"
           }
          ],
          "scatter3d": [
           {
            "line": {
             "colorbar": {
              "outlinewidth": 0,
              "ticks": ""
             }
            },
            "marker": {
             "colorbar": {
              "outlinewidth": 0,
              "ticks": ""
             }
            },
            "type": "scatter3d"
           }
          ],
          "scattercarpet": [
           {
            "marker": {
             "colorbar": {
              "outlinewidth": 0,
              "ticks": ""
             }
            },
            "type": "scattercarpet"
           }
          ],
          "scattergeo": [
           {
            "marker": {
             "colorbar": {
              "outlinewidth": 0,
              "ticks": ""
             }
            },
            "type": "scattergeo"
           }
          ],
          "scattergl": [
           {
            "marker": {
             "colorbar": {
              "outlinewidth": 0,
              "ticks": ""
             }
            },
            "type": "scattergl"
           }
          ],
          "scattermapbox": [
           {
            "marker": {
             "colorbar": {
              "outlinewidth": 0,
              "ticks": ""
             }
            },
            "type": "scattermapbox"
           }
          ],
          "scatterpolar": [
           {
            "marker": {
             "colorbar": {
              "outlinewidth": 0,
              "ticks": ""
             }
            },
            "type": "scatterpolar"
           }
          ],
          "scatterpolargl": [
           {
            "marker": {
             "colorbar": {
              "outlinewidth": 0,
              "ticks": ""
             }
            },
            "type": "scatterpolargl"
           }
          ],
          "scatterternary": [
           {
            "marker": {
             "colorbar": {
              "outlinewidth": 0,
              "ticks": ""
             }
            },
            "type": "scatterternary"
           }
          ],
          "surface": [
           {
            "colorbar": {
             "outlinewidth": 0,
             "ticks": ""
            },
            "colorscale": [
             [
              0,
              "#0d0887"
             ],
             [
              0.1111111111111111,
              "#46039f"
             ],
             [
              0.2222222222222222,
              "#7201a8"
             ],
             [
              0.3333333333333333,
              "#9c179e"
             ],
             [
              0.4444444444444444,
              "#bd3786"
             ],
             [
              0.5555555555555556,
              "#d8576b"
             ],
             [
              0.6666666666666666,
              "#ed7953"
             ],
             [
              0.7777777777777778,
              "#fb9f3a"
             ],
             [
              0.8888888888888888,
              "#fdca26"
             ],
             [
              1,
              "#f0f921"
             ]
            ],
            "type": "surface"
           }
          ],
          "table": [
           {
            "cells": {
             "fill": {
              "color": "#EBF0F8"
             },
             "line": {
              "color": "white"
             }
            },
            "header": {
             "fill": {
              "color": "#C8D4E3"
             },
             "line": {
              "color": "white"
             }
            },
            "type": "table"
           }
          ]
         },
         "layout": {
          "annotationdefaults": {
           "arrowcolor": "#2a3f5f",
           "arrowhead": 0,
           "arrowwidth": 1
          },
          "autotypenumbers": "strict",
          "coloraxis": {
           "colorbar": {
            "outlinewidth": 0,
            "ticks": ""
           }
          },
          "colorscale": {
           "diverging": [
            [
             0,
             "#8e0152"
            ],
            [
             0.1,
             "#c51b7d"
            ],
            [
             0.2,
             "#de77ae"
            ],
            [
             0.3,
             "#f1b6da"
            ],
            [
             0.4,
             "#fde0ef"
            ],
            [
             0.5,
             "#f7f7f7"
            ],
            [
             0.6,
             "#e6f5d0"
            ],
            [
             0.7,
             "#b8e186"
            ],
            [
             0.8,
             "#7fbc41"
            ],
            [
             0.9,
             "#4d9221"
            ],
            [
             1,
             "#276419"
            ]
           ],
           "sequential": [
            [
             0,
             "#0d0887"
            ],
            [
             0.1111111111111111,
             "#46039f"
            ],
            [
             0.2222222222222222,
             "#7201a8"
            ],
            [
             0.3333333333333333,
             "#9c179e"
            ],
            [
             0.4444444444444444,
             "#bd3786"
            ],
            [
             0.5555555555555556,
             "#d8576b"
            ],
            [
             0.6666666666666666,
             "#ed7953"
            ],
            [
             0.7777777777777778,
             "#fb9f3a"
            ],
            [
             0.8888888888888888,
             "#fdca26"
            ],
            [
             1,
             "#f0f921"
            ]
           ],
           "sequentialminus": [
            [
             0,
             "#0d0887"
            ],
            [
             0.1111111111111111,
             "#46039f"
            ],
            [
             0.2222222222222222,
             "#7201a8"
            ],
            [
             0.3333333333333333,
             "#9c179e"
            ],
            [
             0.4444444444444444,
             "#bd3786"
            ],
            [
             0.5555555555555556,
             "#d8576b"
            ],
            [
             0.6666666666666666,
             "#ed7953"
            ],
            [
             0.7777777777777778,
             "#fb9f3a"
            ],
            [
             0.8888888888888888,
             "#fdca26"
            ],
            [
             1,
             "#f0f921"
            ]
           ]
          },
          "colorway": [
           "#636efa",
           "#EF553B",
           "#00cc96",
           "#ab63fa",
           "#FFA15A",
           "#19d3f3",
           "#FF6692",
           "#B6E880",
           "#FF97FF",
           "#FECB52"
          ],
          "font": {
           "color": "#2a3f5f"
          },
          "geo": {
           "bgcolor": "white",
           "lakecolor": "white",
           "landcolor": "#E5ECF6",
           "showlakes": true,
           "showland": true,
           "subunitcolor": "white"
          },
          "hoverlabel": {
           "align": "left"
          },
          "hovermode": "closest",
          "mapbox": {
           "style": "light"
          },
          "paper_bgcolor": "white",
          "plot_bgcolor": "#E5ECF6",
          "polar": {
           "angularaxis": {
            "gridcolor": "white",
            "linecolor": "white",
            "ticks": ""
           },
           "bgcolor": "#E5ECF6",
           "radialaxis": {
            "gridcolor": "white",
            "linecolor": "white",
            "ticks": ""
           }
          },
          "scene": {
           "xaxis": {
            "backgroundcolor": "#E5ECF6",
            "gridcolor": "white",
            "gridwidth": 2,
            "linecolor": "white",
            "showbackground": true,
            "ticks": "",
            "zerolinecolor": "white"
           },
           "yaxis": {
            "backgroundcolor": "#E5ECF6",
            "gridcolor": "white",
            "gridwidth": 2,
            "linecolor": "white",
            "showbackground": true,
            "ticks": "",
            "zerolinecolor": "white"
           },
           "zaxis": {
            "backgroundcolor": "#E5ECF6",
            "gridcolor": "white",
            "gridwidth": 2,
            "linecolor": "white",
            "showbackground": true,
            "ticks": "",
            "zerolinecolor": "white"
           }
          },
          "shapedefaults": {
           "line": {
            "color": "#2a3f5f"
           }
          },
          "ternary": {
           "aaxis": {
            "gridcolor": "white",
            "linecolor": "white",
            "ticks": ""
           },
           "baxis": {
            "gridcolor": "white",
            "linecolor": "white",
            "ticks": ""
           },
           "bgcolor": "#E5ECF6",
           "caxis": {
            "gridcolor": "white",
            "linecolor": "white",
            "ticks": ""
           }
          },
          "title": {
           "x": 0.05
          },
          "xaxis": {
           "automargin": true,
           "gridcolor": "white",
           "linecolor": "white",
           "ticks": "",
           "title": {
            "standoff": 15
           },
           "zerolinecolor": "white",
           "zerolinewidth": 2
          },
          "yaxis": {
           "automargin": true,
           "gridcolor": "white",
           "linecolor": "white",
           "ticks": "",
           "title": {
            "standoff": 15
           },
           "zerolinecolor": "white",
           "zerolinewidth": 2
          }
         }
        },
        "title": {
         "text": "Curva ROC"
        },
        "xaxis": {
         "title": {
          "text": "Taxa de Falso Positivo"
         }
        },
        "yaxis": {
         "title": {
          "text": "Taxa de Verdadeiro Positivo"
         }
        }
       }
      }
     },
     "metadata": {},
     "output_type": "display_data"
    }
   ],
   "source": [
    "## Curva ROC\n",
    "from sklearn.metrics import roc_curve, roc_auc_score\n",
    "\n",
    "# Calcula a curva ROC\n",
    "fpr, tpr, thresholds = roc_curve(y_test, y_pred_prob)\n",
    "\n",
    "# Área sob a curva ROC\n",
    "roc_auc = roc_auc_score(y_test, y_pred_prob)\n",
    "\n",
    "fig = go.Figure()\n",
    "\n",
    "fig.add_trace(go.Scatter(x=fpr, y=tpr,\n",
    "                    mode='lines',\n",
    "                    name=f'ROC curve (AUC = {roc_auc:.2f})'))\n",
    "\n",
    "fig.add_trace(go.Scatter(x=[0, 1], y=[0, 1],\n",
    "                    mode='lines',\n",
    "                    name='Random Guessing',\n",
    "                    line=dict(dash='dash')))\n",
    "\n",
    "fig.update_layout(title='Curva ROC',\n",
    "                  xaxis_title='Taxa de Falso Positivo',\n",
    "                  yaxis_title='Taxa de Verdadeiro Positivo',\n",
    "                  legend=dict(x=0.7, y=0.2))\n",
    "\n",
    "fig.show()\n"
   ]
  }
 ],
 "metadata": {
  "interpreter": {
   "hash": "d331d01e77638ebea46a3e71cc5ccce28b72b1cef5efeda413e85ef8e8050a5f"
  },
  "kernelspec": {
   "display_name": "Python 3.11.4 ('base')",
   "language": "python",
   "name": "python3"
  },
  "language_info": {
   "codemirror_mode": {
    "name": "ipython",
    "version": 3
   },
   "file_extension": ".py",
   "mimetype": "text/x-python",
   "name": "python",
   "nbconvert_exporter": "python",
   "pygments_lexer": "ipython3",
   "version": "3.11.3"
  },
  "orig_nbformat": 4
 },
 "nbformat": 4,
 "nbformat_minor": 2
}
